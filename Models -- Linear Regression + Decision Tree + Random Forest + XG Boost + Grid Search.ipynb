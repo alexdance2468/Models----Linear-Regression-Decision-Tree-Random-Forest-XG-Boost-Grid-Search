{
 "cells": [
  {
   "cell_type": "markdown",
   "metadata": {},
   "source": [
    "# By Alex Dance\n",
    "\n",
    "https://www.linkedin.com/in/alex-dance/"
   ]
  },
  {
   "cell_type": "markdown",
   "metadata": {},
   "source": [
    "## Models -- Linear Regression + Decision Tree + Random Forest + XG Boost + Grid Search"
   ]
  },
  {
   "cell_type": "code",
   "execution_count": 1,
   "metadata": {},
   "outputs": [
    {
     "name": "stdout",
     "output_type": "stream",
     "text": [
      "Models Completed include more than just Decision Trees\n",
      " \n",
      "LR - Linear Regression\n",
      "DT - Decision Tree\n",
      "RF - Random Forest\n",
      "GS - Grid Search\n",
      "XG - XG Boost\n",
      " \n"
     ]
    }
   ],
   "source": [
    "print(\"Models Completed include more than just Decision Trees\")\n",
    "print(\" \")\n",
    "print(\"LR - Linear Regression\")\n",
    "print(\"DT - Decision Tree\")\n",
    "print(\"RF - Random Forest\")\n",
    "print(\"GS - Grid Search\")\n",
    "print(\"XG - XG Boost\")\n",
    "print(\" \")"
   ]
  },
  {
   "cell_type": "code",
   "execution_count": 2,
   "metadata": {
    "scrolled": true
   },
   "outputs": [
    {
     "name": "stdout",
     "output_type": "stream",
     "text": [
      "Data Cleaning Options Used\n",
      " \n",
      "Option a) - Swap outliers for other data\n",
      "Option b) - Delete Outliers\n"
     ]
    }
   ],
   "source": [
    "print(\"Data Cleaning Options Used\")\n",
    "print(\" \")\n",
    "print(\"Option a) - Swap outliers for other data\")\n",
    "print(\"Option b) - Delete Outliers\")"
   ]
  },
  {
   "cell_type": "code",
   "execution_count": 3,
   "metadata": {},
   "outputs": [],
   "source": [
    "import pandas as pd\n",
    "import numpy as np\n",
    "import matplotlib.pyplot as plt\n",
    "import seaborn as sns\n",
    "\n",
    "from sklearn.model_selection import train_test_split\n",
    "from sklearn.linear_model import LogisticRegression\n",
    "from sklearn.metrics import confusion_matrix\n",
    "from sklearn.metrics import precision_score\n",
    "#from sklearn.linear_model import LinearRegression\n",
    "from sklearn import svm, metrics\n",
    "%matplotlib inline"
   ]
  },
  {
   "cell_type": "code",
   "execution_count": 4,
   "metadata": {},
   "outputs": [],
   "source": [
    "class color:  # Testing to make the heading look a liitle more impressive\n",
    "   BOLD = '\\033[1m'"
   ]
  },
  {
   "cell_type": "markdown",
   "metadata": {
    "colab_type": "text",
    "id": "ZXn260h1f5pG"
   },
   "source": [
    "## Scenario: Predicting Heart Disease\n",
    "Heart disease is one of the main causes of death worldwide, so this is a good start to use data science for good.\n",
    "\n",
    "To learn how to prevent heart disease is necessary to know how to reliably detect it first.\n",
    "\n",
    "There is a dataset from a study of heart disease that has been open to the public for many years. The study collects various measurements on patient health and cardiovascular statistics, and of course makes patient identities anonymous.\n",
    "\n",
    "Data is courtesy of **Yeh, I-Cheng** via the **UCI Machine Learning** repository:\n",
    "- Yeh, I-Cheng, Yang, King-Jang, and Ting, Tao-Ming, \"Knowledge discovery on RFM model using Bernoulli sequence, \"Expert Systems with Applications, 2008, doi:10.1016/j.eswa.2008.07.018."
   ]
  },
  {
   "cell_type": "code",
   "execution_count": 5,
   "metadata": {},
   "outputs": [],
   "source": [
    "import pandas as pd\n",
    "import numpy as np"
   ]
  },
  {
   "cell_type": "code",
   "execution_count": 6,
   "metadata": {},
   "outputs": [
    {
     "data": {
      "text/html": [
       "<div>\n",
       "<style scoped>\n",
       "    .dataframe tbody tr th:only-of-type {\n",
       "        vertical-align: middle;\n",
       "    }\n",
       "\n",
       "    .dataframe tbody tr th {\n",
       "        vertical-align: top;\n",
       "    }\n",
       "\n",
       "    .dataframe thead th {\n",
       "        text-align: right;\n",
       "    }\n",
       "</style>\n",
       "<table border=\"1\" class=\"dataframe\">\n",
       "  <thead>\n",
       "    <tr style=\"text-align: right;\">\n",
       "      <th></th>\n",
       "      <th>Recency</th>\n",
       "      <th>Frequency</th>\n",
       "      <th>Monetary</th>\n",
       "      <th>Time</th>\n",
       "      <th>Donated</th>\n",
       "    </tr>\n",
       "  </thead>\n",
       "  <tbody>\n",
       "    <tr>\n",
       "      <th>0</th>\n",
       "      <td>2</td>\n",
       "      <td>50</td>\n",
       "      <td>12500</td>\n",
       "      <td>98</td>\n",
       "      <td>1</td>\n",
       "    </tr>\n",
       "    <tr>\n",
       "      <th>1</th>\n",
       "      <td>0</td>\n",
       "      <td>13</td>\n",
       "      <td>3250</td>\n",
       "      <td>28</td>\n",
       "      <td>1</td>\n",
       "    </tr>\n",
       "    <tr>\n",
       "      <th>2</th>\n",
       "      <td>1</td>\n",
       "      <td>16</td>\n",
       "      <td>4000</td>\n",
       "      <td>35</td>\n",
       "      <td>1</td>\n",
       "    </tr>\n",
       "    <tr>\n",
       "      <th>3</th>\n",
       "      <td>2</td>\n",
       "      <td>20</td>\n",
       "      <td>5000</td>\n",
       "      <td>45</td>\n",
       "      <td>1</td>\n",
       "    </tr>\n",
       "    <tr>\n",
       "      <th>4</th>\n",
       "      <td>1</td>\n",
       "      <td>24</td>\n",
       "      <td>6000</td>\n",
       "      <td>77</td>\n",
       "      <td>0</td>\n",
       "    </tr>\n",
       "  </tbody>\n",
       "</table>\n",
       "</div>"
      ],
      "text/plain": [
       "   Recency  Frequency  Monetary  Time  Donated\n",
       "0        2         50     12500    98        1\n",
       "1        0         13      3250    28        1\n",
       "2        1         16      4000    35        1\n",
       "3        2         20      5000    45        1\n",
       "4        1         24      6000    77        0"
      ]
     },
     "execution_count": 6,
     "metadata": {},
     "output_type": "execute_result"
    }
   ],
   "source": [
    "# From 3.2.3 data = pd.read_csv('C:/Users/alexd/Alex Folder 1/Module 3/housing.data',header=None ,names=names, delim_whitespace=True)\n",
    "#Recency (months),Frequency (times),Monetary (c.c. blood),Time (months),\"whether he/she donated blood in March 2007\"\n",
    "# Data also form https://archive.ics.uci.edu/ml/datasets/Blood+Transfusion+Service+Center\n",
    "names = [\"Recency\", \"Frequency\", \"Monetary\", \"Time\", \"Donated\"]\n",
    "df = pd.read_csv('C:/Users/alexd/Alex Folder 1/Module 7/transfusion2.data',header=None, names=names)\n",
    "adjusted_df= df.copy()\n",
    "                 \n",
    "df.head()"
   ]
  },
  {
   "cell_type": "code",
   "execution_count": 7,
   "metadata": {},
   "outputs": [
    {
     "data": {
      "text/html": [
       "<div>\n",
       "<style scoped>\n",
       "    .dataframe tbody tr th:only-of-type {\n",
       "        vertical-align: middle;\n",
       "    }\n",
       "\n",
       "    .dataframe tbody tr th {\n",
       "        vertical-align: top;\n",
       "    }\n",
       "\n",
       "    .dataframe thead th {\n",
       "        text-align: right;\n",
       "    }\n",
       "</style>\n",
       "<table border=\"1\" class=\"dataframe\">\n",
       "  <thead>\n",
       "    <tr style=\"text-align: right;\">\n",
       "      <th></th>\n",
       "      <th>Recency</th>\n",
       "      <th>Frequency</th>\n",
       "      <th>Monetary</th>\n",
       "      <th>Time</th>\n",
       "      <th>Donated</th>\n",
       "    </tr>\n",
       "  </thead>\n",
       "  <tbody>\n",
       "    <tr>\n",
       "      <th>0</th>\n",
       "      <td>2</td>\n",
       "      <td>50</td>\n",
       "      <td>12500</td>\n",
       "      <td>98</td>\n",
       "      <td>1</td>\n",
       "    </tr>\n",
       "    <tr>\n",
       "      <th>1</th>\n",
       "      <td>0</td>\n",
       "      <td>13</td>\n",
       "      <td>3250</td>\n",
       "      <td>28</td>\n",
       "      <td>1</td>\n",
       "    </tr>\n",
       "    <tr>\n",
       "      <th>2</th>\n",
       "      <td>1</td>\n",
       "      <td>16</td>\n",
       "      <td>4000</td>\n",
       "      <td>35</td>\n",
       "      <td>1</td>\n",
       "    </tr>\n",
       "    <tr>\n",
       "      <th>3</th>\n",
       "      <td>2</td>\n",
       "      <td>20</td>\n",
       "      <td>5000</td>\n",
       "      <td>45</td>\n",
       "      <td>1</td>\n",
       "    </tr>\n",
       "    <tr>\n",
       "      <th>4</th>\n",
       "      <td>1</td>\n",
       "      <td>24</td>\n",
       "      <td>6000</td>\n",
       "      <td>77</td>\n",
       "      <td>0</td>\n",
       "    </tr>\n",
       "  </tbody>\n",
       "</table>\n",
       "</div>"
      ],
      "text/plain": [
       "   Recency  Frequency  Monetary  Time  Donated\n",
       "0        2         50     12500    98        1\n",
       "1        0         13      3250    28        1\n",
       "2        1         16      4000    35        1\n",
       "3        2         20      5000    45        1\n",
       "4        1         24      6000    77        0"
      ]
     },
     "execution_count": 7,
     "metadata": {},
     "output_type": "execute_result"
    }
   ],
   "source": [
    "adjusted_df.head()"
   ]
  },
  {
   "cell_type": "code",
   "execution_count": 8,
   "metadata": {},
   "outputs": [
    {
     "data": {
      "text/html": [
       "<div>\n",
       "<style scoped>\n",
       "    .dataframe tbody tr th:only-of-type {\n",
       "        vertical-align: middle;\n",
       "    }\n",
       "\n",
       "    .dataframe tbody tr th {\n",
       "        vertical-align: top;\n",
       "    }\n",
       "\n",
       "    .dataframe thead th {\n",
       "        text-align: right;\n",
       "    }\n",
       "</style>\n",
       "<table border=\"1\" class=\"dataframe\">\n",
       "  <thead>\n",
       "    <tr style=\"text-align: right;\">\n",
       "      <th></th>\n",
       "      <th>Recency</th>\n",
       "      <th>Frequency</th>\n",
       "      <th>Monetary</th>\n",
       "      <th>Time</th>\n",
       "      <th>Donated</th>\n",
       "    </tr>\n",
       "  </thead>\n",
       "  <tbody>\n",
       "    <tr>\n",
       "      <th>count</th>\n",
       "      <td>748.000000</td>\n",
       "      <td>748.000000</td>\n",
       "      <td>748.000000</td>\n",
       "      <td>748.000000</td>\n",
       "      <td>748.000000</td>\n",
       "    </tr>\n",
       "    <tr>\n",
       "      <th>mean</th>\n",
       "      <td>9.506684</td>\n",
       "      <td>5.514706</td>\n",
       "      <td>1378.676471</td>\n",
       "      <td>34.282086</td>\n",
       "      <td>0.237968</td>\n",
       "    </tr>\n",
       "    <tr>\n",
       "      <th>std</th>\n",
       "      <td>8.095396</td>\n",
       "      <td>5.839307</td>\n",
       "      <td>1459.826781</td>\n",
       "      <td>24.376714</td>\n",
       "      <td>0.426124</td>\n",
       "    </tr>\n",
       "    <tr>\n",
       "      <th>min</th>\n",
       "      <td>0.000000</td>\n",
       "      <td>1.000000</td>\n",
       "      <td>250.000000</td>\n",
       "      <td>2.000000</td>\n",
       "      <td>0.000000</td>\n",
       "    </tr>\n",
       "    <tr>\n",
       "      <th>25%</th>\n",
       "      <td>2.750000</td>\n",
       "      <td>2.000000</td>\n",
       "      <td>500.000000</td>\n",
       "      <td>16.000000</td>\n",
       "      <td>0.000000</td>\n",
       "    </tr>\n",
       "    <tr>\n",
       "      <th>50%</th>\n",
       "      <td>7.000000</td>\n",
       "      <td>4.000000</td>\n",
       "      <td>1000.000000</td>\n",
       "      <td>28.000000</td>\n",
       "      <td>0.000000</td>\n",
       "    </tr>\n",
       "    <tr>\n",
       "      <th>75%</th>\n",
       "      <td>14.000000</td>\n",
       "      <td>7.000000</td>\n",
       "      <td>1750.000000</td>\n",
       "      <td>50.000000</td>\n",
       "      <td>0.000000</td>\n",
       "    </tr>\n",
       "    <tr>\n",
       "      <th>max</th>\n",
       "      <td>74.000000</td>\n",
       "      <td>50.000000</td>\n",
       "      <td>12500.000000</td>\n",
       "      <td>98.000000</td>\n",
       "      <td>1.000000</td>\n",
       "    </tr>\n",
       "  </tbody>\n",
       "</table>\n",
       "</div>"
      ],
      "text/plain": [
       "          Recency   Frequency      Monetary        Time     Donated\n",
       "count  748.000000  748.000000    748.000000  748.000000  748.000000\n",
       "mean     9.506684    5.514706   1378.676471   34.282086    0.237968\n",
       "std      8.095396    5.839307   1459.826781   24.376714    0.426124\n",
       "min      0.000000    1.000000    250.000000    2.000000    0.000000\n",
       "25%      2.750000    2.000000    500.000000   16.000000    0.000000\n",
       "50%      7.000000    4.000000   1000.000000   28.000000    0.000000\n",
       "75%     14.000000    7.000000   1750.000000   50.000000    0.000000\n",
       "max     74.000000   50.000000  12500.000000   98.000000    1.000000"
      ]
     },
     "execution_count": 8,
     "metadata": {},
     "output_type": "execute_result"
    }
   ],
   "source": [
    "df.describe()"
   ]
  },
  {
   "cell_type": "code",
   "execution_count": 9,
   "metadata": {},
   "outputs": [
    {
     "name": "stdout",
     "output_type": "stream",
     "text": [
      "<class 'pandas.core.frame.DataFrame'>\n",
      "RangeIndex: 748 entries, 0 to 747\n",
      "Data columns (total 5 columns):\n",
      " #   Column     Non-Null Count  Dtype\n",
      "---  ------     --------------  -----\n",
      " 0   Recency    748 non-null    int64\n",
      " 1   Frequency  748 non-null    int64\n",
      " 2   Monetary   748 non-null    int64\n",
      " 3   Time       748 non-null    int64\n",
      " 4   Donated    748 non-null    int64\n",
      "dtypes: int64(5)\n",
      "memory usage: 29.3 KB\n"
     ]
    }
   ],
   "source": [
    "df.info()"
   ]
  },
  {
   "cell_type": "code",
   "execution_count": 10,
   "metadata": {},
   "outputs": [
    {
     "name": "stdout",
     "output_type": "stream",
     "text": [
      "<class 'pandas.core.frame.DataFrame'>\n",
      "RangeIndex: 748 entries, 0 to 747\n",
      "Data columns (total 5 columns):\n",
      " #   Column     Non-Null Count  Dtype\n",
      "---  ------     --------------  -----\n",
      " 0   Recency    748 non-null    int64\n",
      " 1   Frequency  748 non-null    int64\n",
      " 2   Monetary   748 non-null    int64\n",
      " 3   Time       748 non-null    int64\n",
      " 4   Donated    748 non-null    int64\n",
      "dtypes: int64(5)\n",
      "memory usage: 29.3 KB\n"
     ]
    }
   ],
   "source": [
    "df.info()"
   ]
  },
  {
   "cell_type": "code",
   "execution_count": 11,
   "metadata": {},
   "outputs": [],
   "source": [
    "df= df.astype(float)"
   ]
  },
  {
   "cell_type": "code",
   "execution_count": 12,
   "metadata": {},
   "outputs": [
    {
     "name": "stdout",
     "output_type": "stream",
     "text": [
      "<class 'pandas.core.frame.DataFrame'>\n",
      "RangeIndex: 748 entries, 0 to 747\n",
      "Data columns (total 5 columns):\n",
      " #   Column     Non-Null Count  Dtype  \n",
      "---  ------     --------------  -----  \n",
      " 0   Recency    748 non-null    float64\n",
      " 1   Frequency  748 non-null    float64\n",
      " 2   Monetary   748 non-null    float64\n",
      " 3   Time       748 non-null    float64\n",
      " 4   Donated    748 non-null    float64\n",
      "dtypes: float64(5)\n",
      "memory usage: 29.3 KB\n"
     ]
    }
   ],
   "source": [
    "df.info()"
   ]
  },
  {
   "cell_type": "code",
   "execution_count": 13,
   "metadata": {},
   "outputs": [
    {
     "data": {
      "text/plain": [
       "2.0     173\n",
       "4.0     156\n",
       "11.0     84\n",
       "14.0     76\n",
       "16.0     63\n",
       "23.0     50\n",
       "21.0     44\n",
       "9.0      20\n",
       "3.0      13\n",
       "1.0       9\n",
       "7.0       8\n",
       "5.0       6\n",
       "8.0       6\n",
       "12.0      6\n",
       "6.0       5\n",
       "0.0       5\n",
       "13.0      5\n",
       "10.0      3\n",
       "15.0      2\n",
       "18.0      2\n",
       "38.0      2\n",
       "25.0      1\n",
       "74.0      1\n",
       "17.0      1\n",
       "40.0      1\n",
       "20.0      1\n",
       "39.0      1\n",
       "22.0      1\n",
       "26.0      1\n",
       "35.0      1\n",
       "72.0      1\n",
       "Name: Recency, dtype: int64"
      ]
     },
     "execution_count": 13,
     "metadata": {},
     "output_type": "execute_result"
    }
   ],
   "source": [
    "df['Recency'].value_counts()"
   ]
  },
  {
   "cell_type": "code",
   "execution_count": 14,
   "metadata": {},
   "outputs": [
    {
     "data": {
      "text/plain": [
       "2.0     173\n",
       "4.0     156\n",
       "11.0     84\n",
       "14.0     76\n",
       "16.0     63\n",
       "23.0     50\n",
       "21.0     44\n",
       "9.0      20\n",
       "3.0      13\n",
       "1.0       9\n",
       "7.0       8\n",
       "5.0       6\n",
       "8.0       6\n",
       "12.0      6\n",
       "6.0       5\n",
       "0.0       5\n",
       "13.0      5\n",
       "10.0      3\n",
       "15.0      2\n",
       "18.0      2\n",
       "38.0      2\n",
       "25.0      1\n",
       "74.0      1\n",
       "17.0      1\n",
       "40.0      1\n",
       "20.0      1\n",
       "39.0      1\n",
       "22.0      1\n",
       "26.0      1\n",
       "35.0      1\n",
       "72.0      1\n",
       "Name: Recency, dtype: int64"
      ]
     },
     "execution_count": 14,
     "metadata": {},
     "output_type": "execute_result"
    }
   ],
   "source": [
    "df['Recency'].value_counts()"
   ]
  },
  {
   "cell_type": "code",
   "execution_count": 15,
   "metadata": {},
   "outputs": [
    {
     "data": {
      "text/plain": [
       "1.0     158\n",
       "2.0     112\n",
       "3.0      87\n",
       "4.0      62\n",
       "5.0      62\n",
       "6.0      52\n",
       "7.0      43\n",
       "8.0      31\n",
       "9.0      24\n",
       "11.0     22\n",
       "10.0     14\n",
       "12.0     14\n",
       "16.0     13\n",
       "14.0     13\n",
       "13.0      9\n",
       "15.0      6\n",
       "17.0      4\n",
       "24.0      3\n",
       "21.0      2\n",
       "19.0      2\n",
       "22.0      2\n",
       "20.0      2\n",
       "46.0      1\n",
       "33.0      1\n",
       "23.0      1\n",
       "18.0      1\n",
       "38.0      1\n",
       "43.0      1\n",
       "34.0      1\n",
       "44.0      1\n",
       "26.0      1\n",
       "41.0      1\n",
       "50.0      1\n",
       "Name: Frequency, dtype: int64"
      ]
     },
     "execution_count": 15,
     "metadata": {},
     "output_type": "execute_result"
    }
   ],
   "source": [
    "df['Frequency'].value_counts()"
   ]
  },
  {
   "cell_type": "code",
   "execution_count": 16,
   "metadata": {},
   "outputs": [
    {
     "data": {
      "text/plain": [
       "250.0      158\n",
       "500.0      112\n",
       "750.0       87\n",
       "1000.0      62\n",
       "1250.0      62\n",
       "1500.0      52\n",
       "1750.0      43\n",
       "2000.0      31\n",
       "2250.0      24\n",
       "2750.0      22\n",
       "2500.0      14\n",
       "3000.0      14\n",
       "3500.0      13\n",
       "4000.0      13\n",
       "3250.0       9\n",
       "3750.0       6\n",
       "4250.0       4\n",
       "6000.0       3\n",
       "5000.0       2\n",
       "4750.0       2\n",
       "5250.0       2\n",
       "5500.0       2\n",
       "12500.0      1\n",
       "9500.0       1\n",
       "4500.0       1\n",
       "8250.0       1\n",
       "8500.0       1\n",
       "6500.0       1\n",
       "10750.0      1\n",
       "5750.0       1\n",
       "10250.0      1\n",
       "11500.0      1\n",
       "11000.0      1\n",
       "Name: Monetary, dtype: int64"
      ]
     },
     "execution_count": 16,
     "metadata": {},
     "output_type": "execute_result"
    }
   ],
   "source": [
    "df['Monetary'].value_counts()"
   ]
  },
  {
   "cell_type": "code",
   "execution_count": 17,
   "metadata": {},
   "outputs": [
    {
     "data": {
      "text/plain": [
       "4.0     57\n",
       "16.0    51\n",
       "14.0    44\n",
       "23.0    36\n",
       "2.0     36\n",
       "        ..\n",
       "13.0     1\n",
       "12.0     1\n",
       "55.0     1\n",
       "3.0      1\n",
       "54.0     1\n",
       "Name: Time, Length: 78, dtype: int64"
      ]
     },
     "execution_count": 17,
     "metadata": {},
     "output_type": "execute_result"
    }
   ],
   "source": [
    "df['Time'].value_counts()"
   ]
  },
  {
   "cell_type": "code",
   "execution_count": 18,
   "metadata": {},
   "outputs": [
    {
     "data": {
      "text/plain": [
       "0.0    570\n",
       "1.0    178\n",
       "Name: Donated, dtype: int64"
      ]
     },
     "execution_count": 18,
     "metadata": {},
     "output_type": "execute_result"
    }
   ],
   "source": [
    "df['Donated'].value_counts()"
   ]
  },
  {
   "cell_type": "code",
   "execution_count": 19,
   "metadata": {},
   "outputs": [],
   "source": [
    "adjusted_df= adjusted_df.astype(float)"
   ]
  },
  {
   "cell_type": "code",
   "execution_count": 20,
   "metadata": {},
   "outputs": [
    {
     "data": {
      "text/html": [
       "<div>\n",
       "<style scoped>\n",
       "    .dataframe tbody tr th:only-of-type {\n",
       "        vertical-align: middle;\n",
       "    }\n",
       "\n",
       "    .dataframe tbody tr th {\n",
       "        vertical-align: top;\n",
       "    }\n",
       "\n",
       "    .dataframe thead th {\n",
       "        text-align: right;\n",
       "    }\n",
       "</style>\n",
       "<table border=\"1\" class=\"dataframe\">\n",
       "  <thead>\n",
       "    <tr style=\"text-align: right;\">\n",
       "      <th></th>\n",
       "      <th>Recency</th>\n",
       "      <th>Frequency</th>\n",
       "      <th>Monetary</th>\n",
       "      <th>Time</th>\n",
       "      <th>Donated</th>\n",
       "    </tr>\n",
       "  </thead>\n",
       "  <tbody>\n",
       "    <tr>\n",
       "      <th>0</th>\n",
       "      <td>2.0</td>\n",
       "      <td>50.0</td>\n",
       "      <td>12500.0</td>\n",
       "      <td>98.0</td>\n",
       "      <td>1.0</td>\n",
       "    </tr>\n",
       "    <tr>\n",
       "      <th>1</th>\n",
       "      <td>0.0</td>\n",
       "      <td>13.0</td>\n",
       "      <td>3250.0</td>\n",
       "      <td>28.0</td>\n",
       "      <td>1.0</td>\n",
       "    </tr>\n",
       "    <tr>\n",
       "      <th>2</th>\n",
       "      <td>1.0</td>\n",
       "      <td>16.0</td>\n",
       "      <td>4000.0</td>\n",
       "      <td>35.0</td>\n",
       "      <td>1.0</td>\n",
       "    </tr>\n",
       "    <tr>\n",
       "      <th>3</th>\n",
       "      <td>2.0</td>\n",
       "      <td>20.0</td>\n",
       "      <td>5000.0</td>\n",
       "      <td>45.0</td>\n",
       "      <td>1.0</td>\n",
       "    </tr>\n",
       "    <tr>\n",
       "      <th>4</th>\n",
       "      <td>1.0</td>\n",
       "      <td>24.0</td>\n",
       "      <td>6000.0</td>\n",
       "      <td>77.0</td>\n",
       "      <td>0.0</td>\n",
       "    </tr>\n",
       "  </tbody>\n",
       "</table>\n",
       "</div>"
      ],
      "text/plain": [
       "   Recency  Frequency  Monetary  Time  Donated\n",
       "0      2.0       50.0   12500.0  98.0      1.0\n",
       "1      0.0       13.0    3250.0  28.0      1.0\n",
       "2      1.0       16.0    4000.0  35.0      1.0\n",
       "3      2.0       20.0    5000.0  45.0      1.0\n",
       "4      1.0       24.0    6000.0  77.0      0.0"
      ]
     },
     "execution_count": 20,
     "metadata": {},
     "output_type": "execute_result"
    }
   ],
   "source": [
    "adjusted_df.head()"
   ]
  },
  {
   "cell_type": "code",
   "execution_count": 21,
   "metadata": {},
   "outputs": [
    {
     "data": {
      "text/plain": [
       "(748, 5)"
      ]
     },
     "execution_count": 21,
     "metadata": {},
     "output_type": "execute_result"
    }
   ],
   "source": [
    "adjusted_df.shape"
   ]
  },
  {
   "cell_type": "code",
   "execution_count": 22,
   "metadata": {},
   "outputs": [],
   "source": [
    "train_a, test_a = train_test_split(adjusted_df, test_size=0.20, random_state=1)"
   ]
  },
  {
   "cell_type": "code",
   "execution_count": 23,
   "metadata": {},
   "outputs": [
    {
     "data": {
      "text/html": [
       "<div>\n",
       "<style scoped>\n",
       "    .dataframe tbody tr th:only-of-type {\n",
       "        vertical-align: middle;\n",
       "    }\n",
       "\n",
       "    .dataframe tbody tr th {\n",
       "        vertical-align: top;\n",
       "    }\n",
       "\n",
       "    .dataframe thead th {\n",
       "        text-align: right;\n",
       "    }\n",
       "</style>\n",
       "<table border=\"1\" class=\"dataframe\">\n",
       "  <thead>\n",
       "    <tr style=\"text-align: right;\">\n",
       "      <th></th>\n",
       "      <th>Recency</th>\n",
       "      <th>Frequency</th>\n",
       "      <th>Monetary</th>\n",
       "      <th>Time</th>\n",
       "      <th>Donated</th>\n",
       "    </tr>\n",
       "  </thead>\n",
       "  <tbody>\n",
       "    <tr>\n",
       "      <th>487</th>\n",
       "      <td>23.0</td>\n",
       "      <td>3.0</td>\n",
       "      <td>750.0</td>\n",
       "      <td>48.0</td>\n",
       "      <td>0.0</td>\n",
       "    </tr>\n",
       "    <tr>\n",
       "      <th>652</th>\n",
       "      <td>14.0</td>\n",
       "      <td>4.0</td>\n",
       "      <td>1000.0</td>\n",
       "      <td>26.0</td>\n",
       "      <td>0.0</td>\n",
       "    </tr>\n",
       "    <tr>\n",
       "      <th>667</th>\n",
       "      <td>11.0</td>\n",
       "      <td>1.0</td>\n",
       "      <td>250.0</td>\n",
       "      <td>11.0</td>\n",
       "      <td>1.0</td>\n",
       "    </tr>\n",
       "    <tr>\n",
       "      <th>537</th>\n",
       "      <td>2.0</td>\n",
       "      <td>6.0</td>\n",
       "      <td>1500.0</td>\n",
       "      <td>26.0</td>\n",
       "      <td>1.0</td>\n",
       "    </tr>\n",
       "    <tr>\n",
       "      <th>194</th>\n",
       "      <td>2.0</td>\n",
       "      <td>2.0</td>\n",
       "      <td>500.0</td>\n",
       "      <td>14.0</td>\n",
       "      <td>0.0</td>\n",
       "    </tr>\n",
       "  </tbody>\n",
       "</table>\n",
       "</div>"
      ],
      "text/plain": [
       "     Recency  Frequency  Monetary  Time  Donated\n",
       "487     23.0        3.0     750.0  48.0      0.0\n",
       "652     14.0        4.0    1000.0  26.0      0.0\n",
       "667     11.0        1.0     250.0  11.0      1.0\n",
       "537      2.0        6.0    1500.0  26.0      1.0\n",
       "194      2.0        2.0     500.0  14.0      0.0"
      ]
     },
     "execution_count": 23,
     "metadata": {},
     "output_type": "execute_result"
    }
   ],
   "source": [
    "train_a.head()"
   ]
  },
  {
   "cell_type": "code",
   "execution_count": 24,
   "metadata": {},
   "outputs": [
    {
     "data": {
      "text/plain": [
       "(598, 5)"
      ]
     },
     "execution_count": 24,
     "metadata": {},
     "output_type": "execute_result"
    }
   ],
   "source": [
    "train_a.shape"
   ]
  },
  {
   "cell_type": "code",
   "execution_count": 25,
   "metadata": {},
   "outputs": [],
   "source": [
    "import seaborn as sns"
   ]
  },
  {
   "cell_type": "code",
   "execution_count": 26,
   "metadata": {},
   "outputs": [
    {
     "data": {
      "text/plain": [
       "<matplotlib.axes._subplots.AxesSubplot at 0x239fe3f9488>"
      ]
     },
     "execution_count": 26,
     "metadata": {},
     "output_type": "execute_result"
    },
    {
     "data": {
      "image/png": "[encoded data removed]",
      "text/plain": [
       "<Figure size 432x288 with 1 Axes>"
      ]
     },
     "metadata": {
      "needs_background": "light"
     },
     "output_type": "display_data"
    }
   ],
   "source": [
    "sns.boxplot(x='Donated', y='Recency',  data=train_a)"
   ]
  },
  {
   "cell_type": "code",
   "execution_count": 27,
   "metadata": {},
   "outputs": [
    {
     "data": {
      "text/plain": [
       "<matplotlib.axes._subplots.AxesSubplot at 0x239feb88488>"
      ]
     },
     "execution_count": 27,
     "metadata": {},
     "output_type": "execute_result"
    },
    {
     "data": {
      "image/png": "[encoded data removed]",
      "text/plain": [
       "<Figure size 432x288 with 1 Axes>"
      ]
     },
     "metadata": {
      "needs_background": "light"
     },
     "output_type": "display_data"
    }
   ],
   "source": [
    "sns.boxplot(x='Donated', y='Frequency',  data=train_a)"
   ]
  },
  {
   "cell_type": "code",
   "execution_count": 28,
   "metadata": {},
   "outputs": [
    {
     "data": {
      "text/plain": [
       "<matplotlib.axes._subplots.AxesSubplot at 0x239fec1b508>"
      ]
     },
     "execution_count": 28,
     "metadata": {},
     "output_type": "execute_result"
    },
    {
     "data": {
      "image/png": "[encoded data removed]",
      "text/plain": [
       "<Figure size 432x288 with 1 Axes>"
      ]
     },
     "metadata": {
      "needs_background": "light"
     },
     "output_type": "display_data"
    }
   ],
   "source": [
    "sns.boxplot(x='Donated', y='Monetary',  data=train_a)"
   ]
  },
  {
   "cell_type": "code",
   "execution_count": 29,
   "metadata": {},
   "outputs": [
    {
     "data": {
      "text/plain": [
       "<matplotlib.axes._subplots.AxesSubplot at 0x239fec82908>"
      ]
     },
     "execution_count": 29,
     "metadata": {},
     "output_type": "execute_result"
    },
    {
     "data": {
      "image/png": "[encoded data removed]",
      "text/plain": [
       "<Figure size 432x288 with 1 Axes>"
      ]
     },
     "metadata": {
      "needs_background": "light"
     },
     "output_type": "display_data"
    }
   ],
   "source": [
    "sns.boxplot(x='Donated', y='Time',  data=train_a)"
   ]
  },
  {
   "cell_type": "markdown",
   "metadata": {
    "colab_type": "text",
    "id": "kTRdzVqdf5pO"
   },
   "source": [
    "# Preparing the Data"
   ]
  },
  {
   "cell_type": "markdown",
   "metadata": {},
   "source": [
    "# Option a  for (a)djust the values"
   ]
  },
  {
   "cell_type": "code",
   "execution_count": 30,
   "metadata": {},
   "outputs": [
    {
     "data": {
      "text/html": [
       "<div>\n",
       "<style scoped>\n",
       "    .dataframe tbody tr th:only-of-type {\n",
       "        vertical-align: middle;\n",
       "    }\n",
       "\n",
       "    .dataframe tbody tr th {\n",
       "        vertical-align: top;\n",
       "    }\n",
       "\n",
       "    .dataframe thead th {\n",
       "        text-align: right;\n",
       "    }\n",
       "</style>\n",
       "<table border=\"1\" class=\"dataframe\">\n",
       "  <thead>\n",
       "    <tr style=\"text-align: right;\">\n",
       "      <th></th>\n",
       "      <th>Recency</th>\n",
       "      <th>Frequency</th>\n",
       "      <th>Monetary</th>\n",
       "      <th>Time</th>\n",
       "      <th>Donated</th>\n",
       "    </tr>\n",
       "  </thead>\n",
       "  <tbody>\n",
       "    <tr>\n",
       "      <th>487</th>\n",
       "      <td>23.0</td>\n",
       "      <td>3.0</td>\n",
       "      <td>750.0</td>\n",
       "      <td>48.0</td>\n",
       "      <td>0.0</td>\n",
       "    </tr>\n",
       "    <tr>\n",
       "      <th>652</th>\n",
       "      <td>14.0</td>\n",
       "      <td>4.0</td>\n",
       "      <td>1000.0</td>\n",
       "      <td>26.0</td>\n",
       "      <td>0.0</td>\n",
       "    </tr>\n",
       "    <tr>\n",
       "      <th>667</th>\n",
       "      <td>11.0</td>\n",
       "      <td>1.0</td>\n",
       "      <td>250.0</td>\n",
       "      <td>11.0</td>\n",
       "      <td>1.0</td>\n",
       "    </tr>\n",
       "    <tr>\n",
       "      <th>537</th>\n",
       "      <td>2.0</td>\n",
       "      <td>6.0</td>\n",
       "      <td>1500.0</td>\n",
       "      <td>26.0</td>\n",
       "      <td>1.0</td>\n",
       "    </tr>\n",
       "    <tr>\n",
       "      <th>194</th>\n",
       "      <td>2.0</td>\n",
       "      <td>2.0</td>\n",
       "      <td>500.0</td>\n",
       "      <td>14.0</td>\n",
       "      <td>0.0</td>\n",
       "    </tr>\n",
       "  </tbody>\n",
       "</table>\n",
       "</div>"
      ],
      "text/plain": [
       "     Recency  Frequency  Monetary  Time  Donated\n",
       "487     23.0        3.0     750.0  48.0      0.0\n",
       "652     14.0        4.0    1000.0  26.0      0.0\n",
       "667     11.0        1.0     250.0  11.0      1.0\n",
       "537      2.0        6.0    1500.0  26.0      1.0\n",
       "194      2.0        2.0     500.0  14.0      0.0"
      ]
     },
     "execution_count": 30,
     "metadata": {},
     "output_type": "execute_result"
    }
   ],
   "source": [
    "train_a.head()"
   ]
  },
  {
   "cell_type": "code",
   "execution_count": 31,
   "metadata": {},
   "outputs": [
    {
     "data": {
      "text/plain": [
       "2.0     131\n",
       "4.0     126\n",
       "11.0     70\n",
       "14.0     58\n",
       "16.0     52\n",
       "23.0     40\n",
       "21.0     38\n",
       "9.0      17\n",
       "3.0      10\n",
       "7.0       7\n",
       "8.0       6\n",
       "1.0       6\n",
       "5.0       5\n",
       "12.0      5\n",
       "13.0      4\n",
       "0.0       4\n",
       "6.0       4\n",
       "38.0      2\n",
       "17.0      1\n",
       "15.0      1\n",
       "26.0      1\n",
       "74.0      1\n",
       "39.0      1\n",
       "72.0      1\n",
       "10.0      1\n",
       "35.0      1\n",
       "25.0      1\n",
       "18.0      1\n",
       "20.0      1\n",
       "40.0      1\n",
       "22.0      1\n",
       "Name: Recency, dtype: int64"
      ]
     },
     "execution_count": 31,
     "metadata": {},
     "output_type": "execute_result"
    }
   ],
   "source": [
    "train_a['Recency'].value_counts()"
   ]
  },
  {
   "cell_type": "code",
   "execution_count": 32,
   "metadata": {},
   "outputs": [
    {
     "data": {
      "text/html": [
       "<div>\n",
       "<style scoped>\n",
       "    .dataframe tbody tr th:only-of-type {\n",
       "        vertical-align: middle;\n",
       "    }\n",
       "\n",
       "    .dataframe tbody tr th {\n",
       "        vertical-align: top;\n",
       "    }\n",
       "\n",
       "    .dataframe thead th {\n",
       "        text-align: right;\n",
       "    }\n",
       "</style>\n",
       "<table border=\"1\" class=\"dataframe\">\n",
       "  <thead>\n",
       "    <tr style=\"text-align: right;\">\n",
       "      <th></th>\n",
       "      <th>Recency</th>\n",
       "      <th>Frequency</th>\n",
       "      <th>Monetary</th>\n",
       "      <th>Time</th>\n",
       "      <th>Donated</th>\n",
       "    </tr>\n",
       "  </thead>\n",
       "  <tbody>\n",
       "    <tr>\n",
       "      <th>count</th>\n",
       "      <td>598.000000</td>\n",
       "      <td>598.000000</td>\n",
       "      <td>598.000000</td>\n",
       "      <td>598.000000</td>\n",
       "      <td>598.000000</td>\n",
       "    </tr>\n",
       "    <tr>\n",
       "      <th>mean</th>\n",
       "      <td>9.755853</td>\n",
       "      <td>5.498328</td>\n",
       "      <td>1374.581940</td>\n",
       "      <td>34.053512</td>\n",
       "      <td>0.229097</td>\n",
       "    </tr>\n",
       "    <tr>\n",
       "      <th>std</th>\n",
       "      <td>8.344986</td>\n",
       "      <td>5.797172</td>\n",
       "      <td>1449.292928</td>\n",
       "      <td>24.290201</td>\n",
       "      <td>0.420604</td>\n",
       "    </tr>\n",
       "    <tr>\n",
       "      <th>min</th>\n",
       "      <td>0.000000</td>\n",
       "      <td>1.000000</td>\n",
       "      <td>250.000000</td>\n",
       "      <td>2.000000</td>\n",
       "      <td>0.000000</td>\n",
       "    </tr>\n",
       "    <tr>\n",
       "      <th>25%</th>\n",
       "      <td>3.000000</td>\n",
       "      <td>2.000000</td>\n",
       "      <td>500.000000</td>\n",
       "      <td>16.000000</td>\n",
       "      <td>0.000000</td>\n",
       "    </tr>\n",
       "    <tr>\n",
       "      <th>50%</th>\n",
       "      <td>8.500000</td>\n",
       "      <td>4.000000</td>\n",
       "      <td>1000.000000</td>\n",
       "      <td>28.000000</td>\n",
       "      <td>0.000000</td>\n",
       "    </tr>\n",
       "    <tr>\n",
       "      <th>75%</th>\n",
       "      <td>14.000000</td>\n",
       "      <td>7.000000</td>\n",
       "      <td>1750.000000</td>\n",
       "      <td>50.000000</td>\n",
       "      <td>0.000000</td>\n",
       "    </tr>\n",
       "    <tr>\n",
       "      <th>max</th>\n",
       "      <td>74.000000</td>\n",
       "      <td>46.000000</td>\n",
       "      <td>11500.000000</td>\n",
       "      <td>98.000000</td>\n",
       "      <td>1.000000</td>\n",
       "    </tr>\n",
       "  </tbody>\n",
       "</table>\n",
       "</div>"
      ],
      "text/plain": [
       "          Recency   Frequency      Monetary        Time     Donated\n",
       "count  598.000000  598.000000    598.000000  598.000000  598.000000\n",
       "mean     9.755853    5.498328   1374.581940   34.053512    0.229097\n",
       "std      8.344986    5.797172   1449.292928   24.290201    0.420604\n",
       "min      0.000000    1.000000    250.000000    2.000000    0.000000\n",
       "25%      3.000000    2.000000    500.000000   16.000000    0.000000\n",
       "50%      8.500000    4.000000   1000.000000   28.000000    0.000000\n",
       "75%     14.000000    7.000000   1750.000000   50.000000    0.000000\n",
       "max     74.000000   46.000000  11500.000000   98.000000    1.000000"
      ]
     },
     "execution_count": 32,
     "metadata": {},
     "output_type": "execute_result"
    }
   ],
   "source": [
    "train_a.describe()"
   ]
  },
  {
   "cell_type": "code",
   "execution_count": 33,
   "metadata": {},
   "outputs": [],
   "source": [
    "train_a['Frequency'].values[train_a['Frequency'].values > train_a['Frequency'].quantile(0.9)] = df['Frequency'].mean()"
   ]
  },
  {
   "cell_type": "code",
   "execution_count": 34,
   "metadata": {},
   "outputs": [],
   "source": [
    "train_a['Recency'].values[train_a['Recency'].values > train_a['Recency'].quantile(0.9)] = df['Recency'].mean()"
   ]
  },
  {
   "cell_type": "code",
   "execution_count": 35,
   "metadata": {},
   "outputs": [],
   "source": [
    "train_a['Monetary'].values[train_a['Monetary'].values > train_a['Monetary'].quantile(0.9)] = df['Monetary'].mean()"
   ]
  },
  {
   "cell_type": "code",
   "execution_count": 36,
   "metadata": {},
   "outputs": [
    {
     "data": {
      "text/html": [
       "<div>\n",
       "<style scoped>\n",
       "    .dataframe tbody tr th:only-of-type {\n",
       "        vertical-align: middle;\n",
       "    }\n",
       "\n",
       "    .dataframe tbody tr th {\n",
       "        vertical-align: top;\n",
       "    }\n",
       "\n",
       "    .dataframe thead th {\n",
       "        text-align: right;\n",
       "    }\n",
       "</style>\n",
       "<table border=\"1\" class=\"dataframe\">\n",
       "  <thead>\n",
       "    <tr style=\"text-align: right;\">\n",
       "      <th></th>\n",
       "      <th>Recency</th>\n",
       "      <th>Frequency</th>\n",
       "      <th>Monetary</th>\n",
       "      <th>Time</th>\n",
       "      <th>Donated</th>\n",
       "    </tr>\n",
       "  </thead>\n",
       "  <tbody>\n",
       "    <tr>\n",
       "      <th>count</th>\n",
       "      <td>598.000000</td>\n",
       "      <td>598.000000</td>\n",
       "      <td>598.000000</td>\n",
       "      <td>598.000000</td>\n",
       "      <td>598.000000</td>\n",
       "    </tr>\n",
       "    <tr>\n",
       "      <th>mean</th>\n",
       "      <td>8.328318</td>\n",
       "      <td>4.244664</td>\n",
       "      <td>1061.165896</td>\n",
       "      <td>34.053512</td>\n",
       "      <td>0.229097</td>\n",
       "    </tr>\n",
       "    <tr>\n",
       "      <th>std</th>\n",
       "      <td>5.887278</td>\n",
       "      <td>2.913433</td>\n",
       "      <td>728.358328</td>\n",
       "      <td>24.290201</td>\n",
       "      <td>0.420604</td>\n",
       "    </tr>\n",
       "    <tr>\n",
       "      <th>min</th>\n",
       "      <td>0.000000</td>\n",
       "      <td>1.000000</td>\n",
       "      <td>250.000000</td>\n",
       "      <td>2.000000</td>\n",
       "      <td>0.000000</td>\n",
       "    </tr>\n",
       "    <tr>\n",
       "      <th>25%</th>\n",
       "      <td>3.000000</td>\n",
       "      <td>2.000000</td>\n",
       "      <td>500.000000</td>\n",
       "      <td>16.000000</td>\n",
       "      <td>0.000000</td>\n",
       "    </tr>\n",
       "    <tr>\n",
       "      <th>50%</th>\n",
       "      <td>8.500000</td>\n",
       "      <td>4.000000</td>\n",
       "      <td>1000.000000</td>\n",
       "      <td>28.000000</td>\n",
       "      <td>0.000000</td>\n",
       "    </tr>\n",
       "    <tr>\n",
       "      <th>75%</th>\n",
       "      <td>14.000000</td>\n",
       "      <td>6.000000</td>\n",
       "      <td>1500.000000</td>\n",
       "      <td>50.000000</td>\n",
       "      <td>0.000000</td>\n",
       "    </tr>\n",
       "    <tr>\n",
       "      <th>max</th>\n",
       "      <td>21.000000</td>\n",
       "      <td>12.000000</td>\n",
       "      <td>3000.000000</td>\n",
       "      <td>98.000000</td>\n",
       "      <td>1.000000</td>\n",
       "    </tr>\n",
       "  </tbody>\n",
       "</table>\n",
       "</div>"
      ],
      "text/plain": [
       "          Recency   Frequency     Monetary        Time     Donated\n",
       "count  598.000000  598.000000   598.000000  598.000000  598.000000\n",
       "mean     8.328318    4.244664  1061.165896   34.053512    0.229097\n",
       "std      5.887278    2.913433   728.358328   24.290201    0.420604\n",
       "min      0.000000    1.000000   250.000000    2.000000    0.000000\n",
       "25%      3.000000    2.000000   500.000000   16.000000    0.000000\n",
       "50%      8.500000    4.000000  1000.000000   28.000000    0.000000\n",
       "75%     14.000000    6.000000  1500.000000   50.000000    0.000000\n",
       "max     21.000000   12.000000  3000.000000   98.000000    1.000000"
      ]
     },
     "execution_count": 36,
     "metadata": {},
     "output_type": "execute_result"
    }
   ],
   "source": [
    "train_a.describe()"
   ]
  },
  {
   "cell_type": "code",
   "execution_count": 37,
   "metadata": {},
   "outputs": [
    {
     "data": {
      "text/plain": [
       "2.000000     131\n",
       "4.000000     126\n",
       "11.000000     70\n",
       "14.000000     58\n",
       "16.000000     52\n",
       "9.506684      50\n",
       "21.000000     38\n",
       "9.000000      17\n",
       "3.000000      10\n",
       "7.000000       7\n",
       "1.000000       6\n",
       "8.000000       6\n",
       "12.000000      5\n",
       "5.000000       5\n",
       "13.000000      4\n",
       "0.000000       4\n",
       "6.000000       4\n",
       "18.000000      1\n",
       "20.000000      1\n",
       "10.000000      1\n",
       "17.000000      1\n",
       "15.000000      1\n",
       "Name: Recency, dtype: int64"
      ]
     },
     "execution_count": 37,
     "metadata": {},
     "output_type": "execute_result"
    }
   ],
   "source": [
    "train_a['Recency'].value_counts()"
   ]
  },
  {
   "cell_type": "code",
   "execution_count": 38,
   "metadata": {},
   "outputs": [
    {
     "data": {
      "text/plain": [
       "1.000000     132\n",
       "2.000000      91\n",
       "3.000000      62\n",
       "5.514706      55\n",
       "4.000000      50\n",
       "5.000000      49\n",
       "6.000000      44\n",
       "7.000000      33\n",
       "8.000000      25\n",
       "9.000000      18\n",
       "11.000000     15\n",
       "12.000000     14\n",
       "10.000000     10\n",
       "Name: Frequency, dtype: int64"
      ]
     },
     "execution_count": 38,
     "metadata": {},
     "output_type": "execute_result"
    }
   ],
   "source": [
    "train_a['Frequency'].value_counts()"
   ]
  },
  {
   "cell_type": "code",
   "execution_count": 41,
   "metadata": {
    "colab": {},
    "colab_type": "code",
    "id": "E1rd-jYcpTzi"
   },
   "outputs": [],
   "source": [
    "# Tis is on the original data (ie not cleaned)\n",
    "y = df[['Donated']]\n",
    "X = df[['Monetary', 'Recency','Frequency','Time']]"
   ]
  },
  {
   "cell_type": "code",
   "execution_count": 42,
   "metadata": {},
   "outputs": [
    {
     "data": {
      "text/plain": [
       "748"
      ]
     },
     "execution_count": 42,
     "metadata": {},
     "output_type": "execute_result"
    }
   ],
   "source": [
    "len(X)"
   ]
  },
  {
   "cell_type": "code",
   "execution_count": 43,
   "metadata": {},
   "outputs": [
    {
     "data": {
      "text/plain": [
       "748"
      ]
     },
     "execution_count": 43,
     "metadata": {},
     "output_type": "execute_result"
    }
   ],
   "source": [
    "len(y)"
   ]
  },
  {
   "cell_type": "code",
   "execution_count": 44,
   "metadata": {},
   "outputs": [],
   "source": [
    "X_train, X_test, y_train, y_test = train_test_split(X, y, test_size=0.20, random_state=1) # For uncleaned data"
   ]
  },
  {
   "cell_type": "markdown",
   "metadata": {},
   "source": [
    "# Function for all"
   ]
  },
  {
   "cell_type": "code",
   "execution_count": 45,
   "metadata": {},
   "outputs": [],
   "source": [
    "def find_all(y_test_f,X_test_f,model_f,X_train_f, y_train_f):\n",
    "    model_f.fit(X_train_f, y_train_f)\n",
    "    preds = model_f.predict_proba(X_test_f)[:,1]\n",
    "    fpr, tpr, thresholds  = metrics.roc_curve(y_test_f, preds)\n",
    "    roc_auc = metrics.auc(fpr, tpr)\n",
    "    y_pred_f = model_f.predict(X_test)\n",
    "    cf = confusion_matrix(y_test_f, y_pred_f)\n",
    "    accuracy_score_train =  model_f.score(X_train_f, y_train_f) \n",
    "    accuracy_score_test =  model_f.score(X_test_f, y_test_f)    \n",
    "    return{'auc': roc_auc, 'cfm':cf ,'accuracy_score_train':accuracy_score_train , 'accuracy_score_test':accuracy_score_test}"
   ]
  },
  {
   "cell_type": "markdown",
   "metadata": {},
   "source": [
    "# Linear Regression for the uncleaned Data"
   ]
  },
  {
   "cell_type": "code",
   "execution_count": 46,
   "metadata": {},
   "outputs": [
    {
     "name": "stdout",
     "output_type": "stream",
     "text": [
      "\u001b[1mLinear Regression Results on Uncleaned Data\n",
      "\u001b[0m\n",
      "LR Uncleaned AUC Test  79.06%\n",
      "[[107   2]\n",
      " [ 36   5]]\n",
      "LR Uncleaned accuracy_score_train  77.93%\n",
      "LR Uncleaned accuracy_score_test  74.67%\n"
     ]
    },
    {
     "name": "stderr",
     "output_type": "stream",
     "text": [
      "C:\\Users\\alexd\\anaconda3\\lib\\site-packages\\sklearn\\utils\\validation.py:760: DataConversionWarning: A column-vector y was passed when a 1d array was expected. Please change the shape of y to (n_samples, ), for example using ravel().\n",
      "  y = column_or_1d(y, warn=True)\n"
     ]
    }
   ],
   "source": [
    "LR_Results= find_all(y_test, X_test ,LogisticRegression(), X_train, y_train)\n",
    "print(color.BOLD +\"Linear Regression Results on Uncleaned Data\")\n",
    "print ('\\033[0m')\n",
    "\n",
    "print(\"LR Uncleaned AUC Test  %.2f%%\" % (LR_Results['auc']* 100.0))\n",
    "print(LR_Results['cfm'])\n",
    "print(\"LR Uncleaned accuracy_score_train  %.2f%%\" % (LR_Results ['accuracy_score_train'] * 100.0))\n",
    "print(\"LR Uncleaned accuracy_score_test  %.2f%%\" % (LR_Results ['accuracy_score_test']* 100.0))\n",
    "\n"
   ]
  },
  {
   "cell_type": "code",
   "execution_count": 47,
   "metadata": {},
   "outputs": [
    {
     "name": "stdout",
     "output_type": "stream",
     "text": [
      "{'auc': 0.7905571716267621, 'cfm': array([[107,   2],\n",
      "       [ 36,   5]], dtype=int64), 'accuracy_score_train': 0.7792642140468228, 'accuracy_score_test': 0.7466666666666667}\n"
     ]
    }
   ],
   "source": [
    "print(LR_Results)"
   ]
  },
  {
   "cell_type": "code",
   "execution_count": 48,
   "metadata": {},
   "outputs": [],
   "source": [
    "Full_Confusion_Matrix = pd.DataFrame(LR_Results['cfm'], index = [\"is_True\", \"is_False\"], columns = (\"predict_True\", \"predict_False\"))"
   ]
  },
  {
   "cell_type": "code",
   "execution_count": 49,
   "metadata": {},
   "outputs": [],
   "source": [
    "Full_Confusion_Matrix[\"Source\"] = \"Linear Regression uncleaned\""
   ]
  },
  {
   "cell_type": "code",
   "execution_count": 50,
   "metadata": {},
   "outputs": [
    {
     "name": "stdout",
     "output_type": "stream",
     "text": [
      "          predict_True  predict_False                       Source\n",
      "is_True            107              2  Linear Regression uncleaned\n",
      "is_False            36              5  Linear Regression uncleaned\n"
     ]
    }
   ],
   "source": [
    "print(Full_Confusion_Matrix)"
   ]
  },
  {
   "cell_type": "markdown",
   "metadata": {},
   "source": [
    "# Prepare Adjusted Data"
   ]
  },
  {
   "cell_type": "code",
   "execution_count": 51,
   "metadata": {},
   "outputs": [],
   "source": [
    "# Note this was all done AFTER the cleaning and the cleaning was ONLY done on the Adjusted training data\n",
    "y_train_a = train_a[['Donated']]\n",
    "X_train_a = train_a[['Monetary', 'Recency','Frequency','Time']]\n",
    "X_test_a = X_test\n",
    "y_test_a = y_test"
   ]
  },
  {
   "cell_type": "markdown",
   "metadata": {},
   "source": [
    "# LR on Adjusted"
   ]
  },
  {
   "cell_type": "code",
   "execution_count": 52,
   "metadata": {},
   "outputs": [
    {
     "name": "stdout",
     "output_type": "stream",
     "text": [
      "\u001b[1mLinear Regression Results on Adjusted Data\n",
      "\u001b[0m\n",
      "LR_Results_Adjusted AUC Test  76.35%\n",
      "[[103   6]\n",
      " [ 29  12]]\n",
      "LR_Results_Adjusted accuracy_score_train  77.26%\n",
      "LR_Results_Adjusted accuracy_score_test  76.67%\n"
     ]
    },
    {
     "name": "stderr",
     "output_type": "stream",
     "text": [
      "C:\\Users\\alexd\\anaconda3\\lib\\site-packages\\sklearn\\utils\\validation.py:760: DataConversionWarning: A column-vector y was passed when a 1d array was expected. Please change the shape of y to (n_samples, ), for example using ravel().\n",
      "  y = column_or_1d(y, warn=True)\n"
     ]
    }
   ],
   "source": [
    "LR_Results_Adjusted= find_all(y_test_a, X_test_a ,LogisticRegression(), X_train_a, y_train_a)\n",
    "print(color.BOLD +\"Linear Regression Results on Adjusted Data\")\n",
    "print ('\\033[0m')\n",
    "\n",
    "print(\"LR_Results_Adjusted AUC Test  %.2f%%\" % (LR_Results_Adjusted['auc']* 100.0))\n",
    "print(LR_Results_Adjusted['cfm'])\n",
    "print(\"LR_Results_Adjusted accuracy_score_train  %.2f%%\" % (LR_Results_Adjusted ['accuracy_score_train'] * 100.0))\n",
    "print(\"LR_Results_Adjusted accuracy_score_test  %.2f%%\" % (LR_Results_Adjusted ['accuracy_score_test']* 100.0))\n"
   ]
  },
  {
   "cell_type": "markdown",
   "metadata": {},
   "source": [
    "# Getting Confusion Matrix in a dataframe for better comparison purposes"
   ]
  },
  {
   "cell_type": "code",
   "execution_count": 53,
   "metadata": {},
   "outputs": [
    {
     "data": {
      "text/html": [
       "<div>\n",
       "<style scoped>\n",
       "    .dataframe tbody tr th:only-of-type {\n",
       "        vertical-align: middle;\n",
       "    }\n",
       "\n",
       "    .dataframe tbody tr th {\n",
       "        vertical-align: top;\n",
       "    }\n",
       "\n",
       "    .dataframe thead th {\n",
       "        text-align: right;\n",
       "    }\n",
       "</style>\n",
       "<table border=\"1\" class=\"dataframe\">\n",
       "  <thead>\n",
       "    <tr style=\"text-align: right;\">\n",
       "      <th></th>\n",
       "      <th>predict_True</th>\n",
       "      <th>predict_False</th>\n",
       "      <th>Source</th>\n",
       "    </tr>\n",
       "  </thead>\n",
       "  <tbody>\n",
       "    <tr>\n",
       "      <th>is_True</th>\n",
       "      <td>107</td>\n",
       "      <td>2</td>\n",
       "      <td>Linear Regression uncleaned</td>\n",
       "    </tr>\n",
       "    <tr>\n",
       "      <th>is_False</th>\n",
       "      <td>36</td>\n",
       "      <td>5</td>\n",
       "      <td>Linear Regression uncleaned</td>\n",
       "    </tr>\n",
       "    <tr>\n",
       "      <th>is_True</th>\n",
       "      <td>103</td>\n",
       "      <td>6</td>\n",
       "      <td>Linear Regression Cleaned</td>\n",
       "    </tr>\n",
       "    <tr>\n",
       "      <th>is_False</th>\n",
       "      <td>29</td>\n",
       "      <td>12</td>\n",
       "      <td>Linear Regression Cleaned</td>\n",
       "    </tr>\n",
       "  </tbody>\n",
       "</table>\n",
       "</div>"
      ],
      "text/plain": [
       "          predict_True  predict_False                       Source\n",
       "is_True            107              2  Linear Regression uncleaned\n",
       "is_False            36              5  Linear Regression uncleaned\n",
       "is_True            103              6    Linear Regression Cleaned\n",
       "is_False            29             12    Linear Regression Cleaned"
      ]
     },
     "execution_count": 53,
     "metadata": {},
     "output_type": "execute_result"
    }
   ],
   "source": [
    "TempMatrix = pd.DataFrame(LR_Results_Adjusted['cfm'], index = [\"is_True\", \"is_False\"], columns = (\"predict_True\", \"predict_False\"))\n",
    "TempMatrix[\"Source\"] = \"Linear Regression Cleaned\"\n",
    "Full_Confusion_Matrix.append(TempMatrix)"
   ]
  },
  {
   "cell_type": "code",
   "execution_count": 54,
   "metadata": {},
   "outputs": [
    {
     "name": "stdout",
     "output_type": "stream",
     "text": [
      "          predict_True  predict_False                       Source\n",
      "is_True            107              2  Linear Regression uncleaned\n",
      "is_False            36              5  Linear Regression uncleaned\n"
     ]
    }
   ],
   "source": [
    "print(Full_Confusion_Matrix)"
   ]
  },
  {
   "cell_type": "code",
   "execution_count": 55,
   "metadata": {},
   "outputs": [
    {
     "name": "stdout",
     "output_type": "stream",
     "text": [
      "          predict_True  predict_False                     Source\n",
      "is_True            103              6  Linear Regression Cleaned\n",
      "is_False            29             12  Linear Regression Cleaned\n"
     ]
    }
   ],
   "source": [
    "print(TempMatrix)"
   ]
  },
  {
   "cell_type": "markdown",
   "metadata": {},
   "source": [
    "# Checking Max and other values after adjusting the data"
   ]
  },
  {
   "cell_type": "code",
   "execution_count": 56,
   "metadata": {},
   "outputs": [
    {
     "data": {
      "text/html": [
       "<div>\n",
       "<style scoped>\n",
       "    .dataframe tbody tr th:only-of-type {\n",
       "        vertical-align: middle;\n",
       "    }\n",
       "\n",
       "    .dataframe tbody tr th {\n",
       "        vertical-align: top;\n",
       "    }\n",
       "\n",
       "    .dataframe thead th {\n",
       "        text-align: right;\n",
       "    }\n",
       "</style>\n",
       "<table border=\"1\" class=\"dataframe\">\n",
       "  <thead>\n",
       "    <tr style=\"text-align: right;\">\n",
       "      <th></th>\n",
       "      <th>Monetary</th>\n",
       "      <th>Recency</th>\n",
       "      <th>Frequency</th>\n",
       "      <th>Time</th>\n",
       "    </tr>\n",
       "  </thead>\n",
       "  <tbody>\n",
       "    <tr>\n",
       "      <th>count</th>\n",
       "      <td>598.000000</td>\n",
       "      <td>598.000000</td>\n",
       "      <td>598.000000</td>\n",
       "      <td>598.000000</td>\n",
       "    </tr>\n",
       "    <tr>\n",
       "      <th>mean</th>\n",
       "      <td>1061.165896</td>\n",
       "      <td>8.328318</td>\n",
       "      <td>4.244664</td>\n",
       "      <td>34.053512</td>\n",
       "    </tr>\n",
       "    <tr>\n",
       "      <th>std</th>\n",
       "      <td>728.358328</td>\n",
       "      <td>5.887278</td>\n",
       "      <td>2.913433</td>\n",
       "      <td>24.290201</td>\n",
       "    </tr>\n",
       "    <tr>\n",
       "      <th>min</th>\n",
       "      <td>250.000000</td>\n",
       "      <td>0.000000</td>\n",
       "      <td>1.000000</td>\n",
       "      <td>2.000000</td>\n",
       "    </tr>\n",
       "    <tr>\n",
       "      <th>25%</th>\n",
       "      <td>500.000000</td>\n",
       "      <td>3.000000</td>\n",
       "      <td>2.000000</td>\n",
       "      <td>16.000000</td>\n",
       "    </tr>\n",
       "    <tr>\n",
       "      <th>50%</th>\n",
       "      <td>1000.000000</td>\n",
       "      <td>8.500000</td>\n",
       "      <td>4.000000</td>\n",
       "      <td>28.000000</td>\n",
       "    </tr>\n",
       "    <tr>\n",
       "      <th>75%</th>\n",
       "      <td>1500.000000</td>\n",
       "      <td>14.000000</td>\n",
       "      <td>6.000000</td>\n",
       "      <td>50.000000</td>\n",
       "    </tr>\n",
       "    <tr>\n",
       "      <th>max</th>\n",
       "      <td>3000.000000</td>\n",
       "      <td>21.000000</td>\n",
       "      <td>12.000000</td>\n",
       "      <td>98.000000</td>\n",
       "    </tr>\n",
       "  </tbody>\n",
       "</table>\n",
       "</div>"
      ],
      "text/plain": [
       "          Monetary     Recency   Frequency        Time\n",
       "count   598.000000  598.000000  598.000000  598.000000\n",
       "mean   1061.165896    8.328318    4.244664   34.053512\n",
       "std     728.358328    5.887278    2.913433   24.290201\n",
       "min     250.000000    0.000000    1.000000    2.000000\n",
       "25%     500.000000    3.000000    2.000000   16.000000\n",
       "50%    1000.000000    8.500000    4.000000   28.000000\n",
       "75%    1500.000000   14.000000    6.000000   50.000000\n",
       "max    3000.000000   21.000000   12.000000   98.000000"
      ]
     },
     "execution_count": 56,
     "metadata": {},
     "output_type": "execute_result"
    }
   ],
   "source": [
    "X_train_a.describe()"
   ]
  },
  {
   "cell_type": "code",
   "execution_count": 57,
   "metadata": {},
   "outputs": [
    {
     "data": {
      "text/html": [
       "<div>\n",
       "<style scoped>\n",
       "    .dataframe tbody tr th:only-of-type {\n",
       "        vertical-align: middle;\n",
       "    }\n",
       "\n",
       "    .dataframe tbody tr th {\n",
       "        vertical-align: top;\n",
       "    }\n",
       "\n",
       "    .dataframe thead th {\n",
       "        text-align: right;\n",
       "    }\n",
       "</style>\n",
       "<table border=\"1\" class=\"dataframe\">\n",
       "  <thead>\n",
       "    <tr style=\"text-align: right;\">\n",
       "      <th></th>\n",
       "      <th>Monetary</th>\n",
       "      <th>Recency</th>\n",
       "      <th>Frequency</th>\n",
       "      <th>Time</th>\n",
       "    </tr>\n",
       "  </thead>\n",
       "  <tbody>\n",
       "    <tr>\n",
       "      <th>count</th>\n",
       "      <td>598.000000</td>\n",
       "      <td>598.000000</td>\n",
       "      <td>598.000000</td>\n",
       "      <td>598.000000</td>\n",
       "    </tr>\n",
       "    <tr>\n",
       "      <th>mean</th>\n",
       "      <td>1374.581940</td>\n",
       "      <td>9.755853</td>\n",
       "      <td>5.498328</td>\n",
       "      <td>34.053512</td>\n",
       "    </tr>\n",
       "    <tr>\n",
       "      <th>std</th>\n",
       "      <td>1449.292928</td>\n",
       "      <td>8.344986</td>\n",
       "      <td>5.797172</td>\n",
       "      <td>24.290201</td>\n",
       "    </tr>\n",
       "    <tr>\n",
       "      <th>min</th>\n",
       "      <td>250.000000</td>\n",
       "      <td>0.000000</td>\n",
       "      <td>1.000000</td>\n",
       "      <td>2.000000</td>\n",
       "    </tr>\n",
       "    <tr>\n",
       "      <th>25%</th>\n",
       "      <td>500.000000</td>\n",
       "      <td>3.000000</td>\n",
       "      <td>2.000000</td>\n",
       "      <td>16.000000</td>\n",
       "    </tr>\n",
       "    <tr>\n",
       "      <th>50%</th>\n",
       "      <td>1000.000000</td>\n",
       "      <td>8.500000</td>\n",
       "      <td>4.000000</td>\n",
       "      <td>28.000000</td>\n",
       "    </tr>\n",
       "    <tr>\n",
       "      <th>75%</th>\n",
       "      <td>1750.000000</td>\n",
       "      <td>14.000000</td>\n",
       "      <td>7.000000</td>\n",
       "      <td>50.000000</td>\n",
       "    </tr>\n",
       "    <tr>\n",
       "      <th>max</th>\n",
       "      <td>11500.000000</td>\n",
       "      <td>74.000000</td>\n",
       "      <td>46.000000</td>\n",
       "      <td>98.000000</td>\n",
       "    </tr>\n",
       "  </tbody>\n",
       "</table>\n",
       "</div>"
      ],
      "text/plain": [
       "           Monetary     Recency   Frequency        Time\n",
       "count    598.000000  598.000000  598.000000  598.000000\n",
       "mean    1374.581940    9.755853    5.498328   34.053512\n",
       "std     1449.292928    8.344986    5.797172   24.290201\n",
       "min      250.000000    0.000000    1.000000    2.000000\n",
       "25%      500.000000    3.000000    2.000000   16.000000\n",
       "50%     1000.000000    8.500000    4.000000   28.000000\n",
       "75%     1750.000000   14.000000    7.000000   50.000000\n",
       "max    11500.000000   74.000000   46.000000   98.000000"
      ]
     },
     "execution_count": 57,
     "metadata": {},
     "output_type": "execute_result"
    }
   ],
   "source": [
    "X_train.describe()"
   ]
  },
  {
   "cell_type": "code",
   "execution_count": 58,
   "metadata": {},
   "outputs": [
    {
     "data": {
      "text/plain": [
       "2.000000     131\n",
       "4.000000     126\n",
       "11.000000     70\n",
       "14.000000     58\n",
       "16.000000     52\n",
       "9.506684      50\n",
       "21.000000     38\n",
       "9.000000      17\n",
       "3.000000      10\n",
       "7.000000       7\n",
       "1.000000       6\n",
       "8.000000       6\n",
       "12.000000      5\n",
       "5.000000       5\n",
       "13.000000      4\n",
       "0.000000       4\n",
       "6.000000       4\n",
       "18.000000      1\n",
       "20.000000      1\n",
       "10.000000      1\n",
       "17.000000      1\n",
       "15.000000      1\n",
       "Name: Recency, dtype: int64"
      ]
     },
     "execution_count": 58,
     "metadata": {},
     "output_type": "execute_result"
    }
   ],
   "source": [
    "X_train_a['Recency'].value_counts()"
   ]
  },
  {
   "cell_type": "code",
   "execution_count": 59,
   "metadata": {},
   "outputs": [
    {
     "data": {
      "text/plain": [
       "2.0     131\n",
       "4.0     126\n",
       "11.0     70\n",
       "14.0     58\n",
       "16.0     52\n",
       "23.0     40\n",
       "21.0     38\n",
       "9.0      17\n",
       "3.0      10\n",
       "7.0       7\n",
       "8.0       6\n",
       "1.0       6\n",
       "5.0       5\n",
       "12.0      5\n",
       "13.0      4\n",
       "0.0       4\n",
       "6.0       4\n",
       "38.0      2\n",
       "17.0      1\n",
       "15.0      1\n",
       "26.0      1\n",
       "74.0      1\n",
       "39.0      1\n",
       "72.0      1\n",
       "10.0      1\n",
       "35.0      1\n",
       "25.0      1\n",
       "18.0      1\n",
       "20.0      1\n",
       "40.0      1\n",
       "22.0      1\n",
       "Name: Recency, dtype: int64"
      ]
     },
     "execution_count": 59,
     "metadata": {},
     "output_type": "execute_result"
    }
   ],
   "source": [
    "X_train['Recency'].value_counts()"
   ]
  },
  {
   "cell_type": "markdown",
   "metadata": {},
   "source": [
    "# Run Decision Tree"
   ]
  },
  {
   "cell_type": "code",
   "execution_count": 60,
   "metadata": {},
   "outputs": [],
   "source": [
    "# https://www.geeksforgeeks.org/decision-tree-implementation-python/"
   ]
  },
  {
   "cell_type": "code",
   "execution_count": 61,
   "metadata": {},
   "outputs": [],
   "source": [
    "from sklearn.tree import DecisionTreeClassifier"
   ]
  },
  {
   "cell_type": "code",
   "execution_count": 62,
   "metadata": {},
   "outputs": [
    {
     "name": "stdout",
     "output_type": "stream",
     "text": [
      "\u001b[1mDecision Tree Results on Gini Uncleaned Data\n",
      "\u001b[0m\n",
      "DT_Uncleaned_gini: AUC Test  73.42%\n",
      "[[99 10]\n",
      " [22 19]]\n",
      "DT_Uncleaned_gini : accuracy_score_train  79.77%\n",
      ": DT_Uncleaned_gini accuracy_score_test  78.67%\n"
     ]
    }
   ],
   "source": [
    "DT_Uncleaned_gini= find_all(y_test, X_test ,DecisionTreeClassifier(criterion = \"gini\",  random_state = 100,max_depth=3, min_samples_leaf=5) , X_train, y_train)\n",
    "print(color.BOLD +\"Decision Tree Results on Gini Uncleaned Data\")\n",
    "print ('\\033[0m')\n",
    "\n",
    "print(\"DT_Uncleaned_gini: AUC Test  %.2f%%\" % (DT_Uncleaned_gini['auc']* 100.0))\n",
    "print(DT_Uncleaned_gini['cfm'])\n",
    "print(\"DT_Uncleaned_gini : accuracy_score_train  %.2f%%\" % (DT_Uncleaned_gini ['accuracy_score_train'] * 100.0))\n",
    "print(\": DT_Uncleaned_gini accuracy_score_test  %.2f%%\" % (DT_Uncleaned_gini ['accuracy_score_test']* 100.0))"
   ]
  },
  {
   "cell_type": "code",
   "execution_count": 63,
   "metadata": {},
   "outputs": [
    {
     "name": "stdout",
     "output_type": "stream",
     "text": [
      "\u001b[1mDecision Tree Results on Entropy Uncleaned Data\n",
      "\u001b[0m\n",
      "DT_Uncleaned_entropy - AUC   72.81%\n",
      "[[99 10]\n",
      " [22 19]]\n",
      "DT_Uncleaned_entropy accuracy_score_train  79.77%\n",
      "DT_Uncleaned_entropy accuracy_score_test  78.67%\n"
     ]
    }
   ],
   "source": [
    "DT_Uncleaned_entropy= find_all(y_test, X_test ,DecisionTreeClassifier(criterion = \"entropy\",  random_state = 100,max_depth=3, min_samples_leaf=5) , X_train, y_train)\n",
    "print(color.BOLD +\"Decision Tree Results on Entropy Uncleaned Data\")\n",
    "print ('\\033[0m')\n",
    "\n",
    "print(\"DT_Uncleaned_entropy - AUC   %.2f%%\" % (DT_Uncleaned_entropy['auc']* 100.0))\n",
    "print(DT_Uncleaned_entropy['cfm'])\n",
    "print(\"DT_Uncleaned_entropy accuracy_score_train  %.2f%%\" % (DT_Uncleaned_entropy ['accuracy_score_train'] * 100.0))\n",
    "print(\"DT_Uncleaned_entropy accuracy_score_test  %.2f%%\" % (DT_Uncleaned_entropy ['accuracy_score_test']* 100.0))"
   ]
  },
  {
   "cell_type": "code",
   "execution_count": 64,
   "metadata": {},
   "outputs": [
    {
     "name": "stdout",
     "output_type": "stream",
     "text": [
      "\u001b[1mDecision Tree Gini Results on Adjusted Data\n",
      "\u001b[0m\n",
      "DT_Results_Adjusted AUC Test  72.79%\n",
      "[[99 10]\n",
      " [22 19]]\n",
      "DT_Results_Adjusted accuracy_score_train  79.77%\n",
      "DT_Results_Adjusted accuracy_score_test  78.67%\n"
     ]
    }
   ],
   "source": [
    "DT_Results_Adjusted= find_all(y_test_a, X_test_a ,DecisionTreeClassifier(criterion = \"gini\",  random_state = 100,max_depth=3, min_samples_leaf=5), X_train_a, y_train_a)\n",
    "print(color.BOLD +\"Decision Tree Gini Results on Adjusted Data\")\n",
    "print ('\\033[0m')\n",
    "\n",
    "print(\"DT_Results_Adjusted AUC Test  %.2f%%\" % (DT_Results_Adjusted['auc']* 100.0))\n",
    "print(DT_Results_Adjusted['cfm'])\n",
    "print(\"DT_Results_Adjusted accuracy_score_train  %.2f%%\" % (DT_Results_Adjusted ['accuracy_score_train'] * 100.0))\n",
    "print(\"DT_Results_Adjusted accuracy_score_test  %.2f%%\" % (DT_Results_Adjusted ['accuracy_score_test']* 100.0))"
   ]
  },
  {
   "cell_type": "markdown",
   "metadata": {},
   "source": [
    "# Run 2 lines of Model - purely for Decision Tree Plot"
   ]
  },
  {
   "cell_type": "code",
   "execution_count": 65,
   "metadata": {},
   "outputs": [],
   "source": [
    "#https://medium.com/@garg.mohit851/random-forest-visualization-3f76cdf6456f\n",
    "# https://scikit-learn.org/stable/modules/generated/sklearn.tree.plot_tree.html#sklearn.tree.plot_tree\n",
    "# https://stackoverflow.com/questions/59447378/sklearn-plot-tree-plot-is-too-small\n",
    "# https://towardsdatascience.com/how-to-visualize-a-decision-tree-from-a-random-forest-in-python-using-scikit-learn-38ad2d75f21c"
   ]
  },
  {
   "cell_type": "code",
   "execution_count": 66,
   "metadata": {},
   "outputs": [],
   "source": [
    "from sklearn.model_selection import GridSearchCV"
   ]
  },
  {
   "cell_type": "code",
   "execution_count": 67,
   "metadata": {},
   "outputs": [],
   "source": [
    "DT_Uncleaned_Model = DecisionTreeClassifier(criterion = \"gini\",  random_state = 100,max_depth=3, min_samples_leaf=5)"
   ]
  },
  {
   "cell_type": "code",
   "execution_count": 68,
   "metadata": {},
   "outputs": [
    {
     "data": {
      "text/plain": [
       "DecisionTreeClassifier(ccp_alpha=0.0, class_weight=None, criterion='gini',\n",
       "                       max_depth=3, max_features=None, max_leaf_nodes=None,\n",
       "                       min_impurity_decrease=0.0, min_impurity_split=None,\n",
       "                       min_samples_leaf=5, min_samples_split=2,\n",
       "                       min_weight_fraction_leaf=0.0, presort='deprecated',\n",
       "                       random_state=100, splitter='best')"
      ]
     },
     "execution_count": 68,
     "metadata": {},
     "output_type": "execute_result"
    }
   ],
   "source": [
    "DT_Uncleaned_Model.fit(X_train, y_train) "
   ]
  },
  {
   "cell_type": "code",
   "execution_count": 69,
   "metadata": {},
   "outputs": [],
   "source": [
    "DT_Clean_Model = DecisionTreeClassifier(criterion = \"gini\",  random_state = 100,max_depth=3, min_samples_leaf=5)"
   ]
  },
  {
   "cell_type": "code",
   "execution_count": 70,
   "metadata": {},
   "outputs": [
    {
     "data": {
      "text/plain": [
       "DecisionTreeClassifier(ccp_alpha=0.0, class_weight=None, criterion='gini',\n",
       "                       max_depth=3, max_features=None, max_leaf_nodes=None,\n",
       "                       min_impurity_decrease=0.0, min_impurity_split=None,\n",
       "                       min_samples_leaf=5, min_samples_split=2,\n",
       "                       min_weight_fraction_leaf=0.0, presort='deprecated',\n",
       "                       random_state=100, splitter='best')"
      ]
     },
     "execution_count": 70,
     "metadata": {},
     "output_type": "execute_result"
    }
   ],
   "source": [
    "DT_Clean_Model.fit(X_train_a, y_train_a)  "
   ]
  },
  {
   "cell_type": "code",
   "execution_count": 71,
   "metadata": {},
   "outputs": [],
   "source": [
    "import matplotlib.pyplot as plt\n",
    "from sklearn import tree"
   ]
  },
  {
   "cell_type": "code",
   "execution_count": 72,
   "metadata": {},
   "outputs": [
    {
     "data": {
      "image/png": "[encoded data removed]",
      "text/plain": [
       "<Figure size 864x864 with 1 Axes>"
      ]
     },
     "metadata": {
      "needs_background": "light"
     },
     "output_type": "display_data"
    }
   ],
   "source": [
    "fig, ax = plt.subplots(figsize=(12, 12))\n",
    "tree.plot_tree(DT_Uncleaned_Model, max_depth=4, fontsize=10)\n",
    "plt.show()"
   ]
  },
  {
   "cell_type": "code",
   "execution_count": 73,
   "metadata": {},
   "outputs": [
    {
     "data": {
      "image/png": "[encoded data removed]",
      "text/plain": [
       "<Figure size 864x864 with 1 Axes>"
      ]
     },
     "metadata": {
      "needs_background": "light"
     },
     "output_type": "display_data"
    }
   ],
   "source": [
    "fig, ax = plt.subplots(figsize=(12, 12))\n",
    "tree.plot_tree(DT_Clean_Model, max_depth=4, fontsize=10)\n",
    "plt.show()"
   ]
  },
  {
   "cell_type": "markdown",
   "metadata": {},
   "source": [
    "# Grid Search"
   ]
  },
  {
   "cell_type": "code",
   "execution_count": 74,
   "metadata": {},
   "outputs": [],
   "source": [
    "#from https://www.dezyre.com/recipes/optimize-hyper-parameters-of-decisiontree-model-using-grid-search-in-python"
   ]
  },
  {
   "cell_type": "code",
   "execution_count": 75,
   "metadata": {},
   "outputs": [],
   "source": [
    "from sklearn.model_selection import GridSearchCV,  cross_val_score"
   ]
  },
  {
   "cell_type": "code",
   "execution_count": 76,
   "metadata": {},
   "outputs": [],
   "source": [
    "from sklearn.pipeline import Pipeline\n",
    "from sklearn.preprocessing import StandardScaler\n",
    "from sklearn import decomposition, datasets"
   ]
  },
  {
   "cell_type": "code",
   "execution_count": 77,
   "metadata": {},
   "outputs": [],
   "source": [
    " sc = StandardScaler()\n",
    "pca = decomposition.PCA()"
   ]
  },
  {
   "cell_type": "code",
   "execution_count": 78,
   "metadata": {},
   "outputs": [],
   "source": [
    "pipe = Pipeline(steps=[('sc', sc),('pca', pca), ('decisiontree', DT_Uncleaned_Model)])"
   ]
  },
  {
   "cell_type": "code",
   "execution_count": 79,
   "metadata": {},
   "outputs": [],
   "source": [
    "n_components = list(range(1,X.shape[1]+1,1))"
   ]
  },
  {
   "cell_type": "code",
   "execution_count": 80,
   "metadata": {},
   "outputs": [],
   "source": [
    "criterion = ['gini', 'entropy']\n",
    "max_depth = [4,6,8,12]"
   ]
  },
  {
   "cell_type": "code",
   "execution_count": 81,
   "metadata": {},
   "outputs": [],
   "source": [
    "parameters = dict(pca__n_components=n_components,\n",
    "                      decisiontree__criterion=criterion,\n",
    "                      decisiontree__max_depth=max_depth)"
   ]
  },
  {
   "cell_type": "code",
   "execution_count": 82,
   "metadata": {},
   "outputs": [],
   "source": [
    "clf = GridSearchCV(pipe, parameters)"
   ]
  },
  {
   "cell_type": "code",
   "execution_count": 83,
   "metadata": {},
   "outputs": [
    {
     "data": {
      "text/plain": [
       "GridSearchCV(cv=None, error_score=nan,\n",
       "             estimator=Pipeline(memory=None,\n",
       "                                steps=[('sc',\n",
       "                                        StandardScaler(copy=True,\n",
       "                                                       with_mean=True,\n",
       "                                                       with_std=True)),\n",
       "                                       ('pca',\n",
       "                                        PCA(copy=True, iterated_power='auto',\n",
       "                                            n_components=None,\n",
       "                                            random_state=None,\n",
       "                                            svd_solver='auto', tol=0.0,\n",
       "                                            whiten=False)),\n",
       "                                       ('decisiontree',\n",
       "                                        DecisionTreeClassifier(ccp_alpha=0.0,\n",
       "                                                               class_weight=None,\n",
       "                                                               criterion='gini',\n",
       "                                                               max_d...\n",
       "                                                               min_samples_split=2,\n",
       "                                                               min_weight_fraction_leaf=0.0,\n",
       "                                                               presort='deprecated',\n",
       "                                                               random_state=100,\n",
       "                                                               splitter='best'))],\n",
       "                                verbose=False),\n",
       "             iid='deprecated', n_jobs=None,\n",
       "             param_grid={'decisiontree__criterion': ['gini', 'entropy'],\n",
       "                         'decisiontree__max_depth': [4, 6, 8, 12],\n",
       "                         'pca__n_components': [1, 2, 3, 4]},\n",
       "             pre_dispatch='2*n_jobs', refit=True, return_train_score=False,\n",
       "             scoring=None, verbose=0)"
      ]
     },
     "execution_count": 83,
     "metadata": {},
     "output_type": "execute_result"
    }
   ],
   "source": [
    "clf.fit(X, y)"
   ]
  },
  {
   "cell_type": "code",
   "execution_count": 84,
   "metadata": {},
   "outputs": [
    {
     "name": "stdout",
     "output_type": "stream",
     "text": [
      "Best Criterion: gini\n",
      "Best max_depth: 4\n",
      "Best Number Of Components: 1\n",
      "\n",
      "DecisionTreeClassifier(ccp_alpha=0.0, class_weight=None, criterion='gini',\n",
      "                       max_depth=4, max_features=None, max_leaf_nodes=None,\n",
      "                       min_impurity_decrease=0.0, min_impurity_split=None,\n",
      "                       min_samples_leaf=5, min_samples_split=2,\n",
      "                       min_weight_fraction_leaf=0.0, presort='deprecated',\n",
      "                       random_state=100, splitter='best')\n"
     ]
    }
   ],
   "source": [
    "# View The Best Parameters\n",
    "print('Best Criterion:', clf.best_estimator_.get_params()['decisiontree__criterion'])\n",
    "print('Best max_depth:', clf.best_estimator_.get_params()['decisiontree__max_depth'])\n",
    "print('Best Number Of Components:', clf.best_estimator_.get_params()['pca__n_components'])\n",
    "print(); print(clf.best_estimator_.get_params()['decisiontree'])"
   ]
  },
  {
   "cell_type": "code",
   "execution_count": 85,
   "metadata": {},
   "outputs": [
    {
     "name": "stdout",
     "output_type": "stream",
     "text": [
      "\n",
      "[0.45454545 0.80213904 0.7486631  0.7540107 ]\n",
      "\n",
      "0.6898395721925134\n",
      "\n",
      "0.13743419546413257\n"
     ]
    }
   ],
   "source": [
    "# Use Cross Validation To Evaluate Model\n",
    "CV_Result = cross_val_score(clf, X, y, cv=4, n_jobs=-1)\n",
    "print(); print(CV_Result)\n",
    "print(); print(CV_Result.mean())\n",
    "print(); print(CV_Result.std())"
   ]
  },
  {
   "cell_type": "markdown",
   "metadata": {},
   "source": [
    "# Now Model after Grid search"
   ]
  },
  {
   "cell_type": "code",
   "execution_count": 86,
   "metadata": {},
   "outputs": [
    {
     "name": "stdout",
     "output_type": "stream",
     "text": [
      "\u001b[1mDecision Tree Results on Grid Search Uncleaned Data\n",
      "\u001b[0m\n",
      "DT_Uncleaned_GS: AUC Test  76.49%\n",
      "[[99 10]\n",
      " [22 19]]\n",
      "DT_Uncleaned_GS : accuracy_score_train  79.77%\n",
      "DT_Uncleaned_GS accuracy_score_test  78.67%\n"
     ]
    }
   ],
   "source": [
    "DT_Uncleaned_GS= find_all(y_test, X_test ,DecisionTreeClassifier(ccp_alpha=0.0, class_weight=None, criterion='gini',\n",
    "                       max_depth=4, max_features=None, max_leaf_nodes=None,\n",
    "                       min_impurity_decrease=0.0, min_impurity_split=None,\n",
    "                       min_samples_leaf=5, min_samples_split=2,\n",
    "                       min_weight_fraction_leaf=0.0, presort='deprecated',\n",
    "                       random_state=100, splitter='best') , X_train, y_train)\n",
    "print(color.BOLD +\"Decision Tree Results on Grid Search Uncleaned Data\")\n",
    "print ('\\033[0m')\n",
    "\n",
    "print(\"DT_Uncleaned_GS: AUC Test  %.2f%%\" % (DT_Uncleaned_GS['auc']* 100.0))\n",
    "print(DT_Uncleaned_gini['cfm'])\n",
    "print(\"DT_Uncleaned_GS : accuracy_score_train  %.2f%%\" % (DT_Uncleaned_GS ['accuracy_score_train'] * 100.0))\n",
    "print(\"DT_Uncleaned_GS accuracy_score_test  %.2f%%\" % (DT_Uncleaned_GS ['accuracy_score_test']* 100.0))"
   ]
  },
  {
   "cell_type": "markdown",
   "metadata": {},
   "source": [
    "# Now Random Forest"
   ]
  },
  {
   "cell_type": "markdown",
   "metadata": {},
   "source": [
    "https://stackabuse.com/random-forest-algorithm-with-python-and-scikit-learn/  for regression that this is NOT\n",
    "https://www.datacamp.com/community/tutorials/random-forests-classifier-python  for classifier"
   ]
  },
  {
   "cell_type": "code",
   "execution_count": 87,
   "metadata": {},
   "outputs": [
    {
     "name": "stdout",
     "output_type": "stream",
     "text": [
      "\u001b[1mDecision Tree Results on Gini Uncleaned Data\n",
      "\u001b[0m\n",
      "RF_Uncleaned AUC Test  73.63%\n",
      "[[96 13]\n",
      " [23 18]]\n",
      "RF_Uncleaned accuracy_score_train  93.48%\n",
      "RF_Uncleaned accuracy_score_test  76.00%\n"
     ]
    },
    {
     "name": "stderr",
     "output_type": "stream",
     "text": [
      "C:\\Users\\alexd\\anaconda3\\lib\\site-packages\\ipykernel_launcher.py:2: DataConversionWarning: A column-vector y was passed when a 1d array was expected. Please change the shape of y to (n_samples,), for example using ravel().\n",
      "  \n"
     ]
    }
   ],
   "source": [
    "from sklearn.ensemble import RandomForestClassifier\n",
    "RF_Uncleaned = find_all(y_test, X_test ,RandomForestClassifier(n_estimators=100) , X_train, y_train)\n",
    "print(color.BOLD +\"Decision Tree Results on Gini Uncleaned Data\")\n",
    "print ('\\033[0m')\n",
    "\n",
    "print(\"RF_Uncleaned AUC Test  %.2f%%\" % (RF_Uncleaned['auc']* 100.0))\n",
    "print(RF_Uncleaned['cfm'])\n",
    "print(\"RF_Uncleaned accuracy_score_train  %.2f%%\" % (RF_Uncleaned ['accuracy_score_train'] * 100.0))\n",
    "print(\"RF_Uncleaned accuracy_score_test  %.2f%%\" % (RF_Uncleaned ['accuracy_score_test']* 100.0))"
   ]
  },
  {
   "cell_type": "code",
   "execution_count": 88,
   "metadata": {},
   "outputs": [
    {
     "name": "stderr",
     "output_type": "stream",
     "text": [
      "C:\\Users\\alexd\\anaconda3\\lib\\site-packages\\ipykernel_launcher.py:2: DataConversionWarning: A column-vector y was passed when a 1d array was expected. Please change the shape of y to (n_samples,), for example using ravel().\n",
      "  \n"
     ]
    },
    {
     "name": "stdout",
     "output_type": "stream",
     "text": [
      "\u001b[1mDecision Tree Gini Results on Adjusted Data\n",
      "\u001b[0m\n",
      "RF_Adjusted AUC Test  73.16%\n",
      "[[96 13]\n",
      " [27 14]]\n",
      "RF_Adjusted accuracy_score_train  93.31%\n",
      "RF_Adjusted accuracy_score_test  73.33%\n"
     ]
    }
   ],
   "source": [
    "RF_Adjusted= find_all(y_test_a, X_test_a, RandomForestClassifier(n_estimators=100), X_train_a, y_train_a)\n",
    "print(color.BOLD +\"Decision Tree Gini Results on Adjusted Data\")\n",
    "print ('\\033[0m')\n",
    "\n",
    "print(\"RF_Adjusted AUC Test  %.2f%%\" % (RF_Adjusted['auc']* 100.0))\n",
    "print(RF_Adjusted['cfm'])\n",
    "print(\"RF_Adjusted accuracy_score_train  %.2f%%\" % (RF_Adjusted ['accuracy_score_train'] * 100.0))\n",
    "print(\"RF_Adjusted accuracy_score_test  %.2f%%\" % (RF_Adjusted ['accuracy_score_test']* 100.0))"
   ]
  },
  {
   "cell_type": "markdown",
   "metadata": {},
   "source": [
    "# Now XG Boost"
   ]
  },
  {
   "cell_type": "code",
   "execution_count": 89,
   "metadata": {},
   "outputs": [],
   "source": [
    "# https://machinelearningmastery.com/develop-first-xgboost-model-python-scikit-learn/"
   ]
  },
  {
   "cell_type": "code",
   "execution_count": 90,
   "metadata": {},
   "outputs": [],
   "source": [
    "# !pip install xgboost"
   ]
  },
  {
   "cell_type": "code",
   "execution_count": 91,
   "metadata": {},
   "outputs": [],
   "source": [
    "from numpy import loadtxt\n",
    "from xgboost import XGBClassifier\n",
    "from sklearn.metrics import accuracy_score"
   ]
  },
  {
   "cell_type": "code",
   "execution_count": 92,
   "metadata": {},
   "outputs": [
    {
     "name": "stderr",
     "output_type": "stream",
     "text": [
      "C:\\Users\\alexd\\anaconda3\\lib\\site-packages\\sklearn\\preprocessing\\_label.py:235: DataConversionWarning: A column-vector y was passed when a 1d array was expected. Please change the shape of y to (n_samples, ), for example using ravel().\n",
      "  y = column_or_1d(y, warn=True)\n",
      "C:\\Users\\alexd\\anaconda3\\lib\\site-packages\\sklearn\\preprocessing\\_label.py:268: DataConversionWarning: A column-vector y was passed when a 1d array was expected. Please change the shape of y to (n_samples, ), for example using ravel().\n",
      "  y = column_or_1d(y, warn=True)\n"
     ]
    },
    {
     "name": "stdout",
     "output_type": "stream",
     "text": [
      "\u001b[1mXG Results on Uncleaned Data\n",
      "\u001b[0m\n",
      "XGUncleaned AUC Test  71.78%\n",
      "[[95 14]\n",
      " [25 16]]\n",
      "XGUncleaned accuracy_score_train  92.31%\n",
      "XGUncleaned accuracy_score_test  74.00%\n"
     ]
    }
   ],
   "source": [
    "XGUncleaned= find_all(y_test, X_test ,XGBClassifier(), X_train, y_train)\n",
    "print(color.BOLD +\"XG Results on Uncleaned Data\")\n",
    "print ('\\033[0m')\n",
    "\n",
    "print(\"XGUncleaned AUC Test  %.2f%%\" % (XGUncleaned['auc']* 100.0))\n",
    "print(XGUncleaned['cfm'])\n",
    "print(\"XGUncleaned accuracy_score_train  %.2f%%\" % (XGUncleaned ['accuracy_score_train'] * 100.0))\n",
    "print(\"XGUncleaned accuracy_score_test  %.2f%%\" % (XGUncleaned ['accuracy_score_test']* 100.0))"
   ]
  },
  {
   "cell_type": "code",
   "execution_count": 93,
   "metadata": {},
   "outputs": [
    {
     "name": "stdout",
     "output_type": "stream",
     "text": [
      "\u001b[1mXG Boost Results on Adjusted Data\n",
      "\u001b[0m\n",
      "XG_Results_Adjusted AUC Test  70.02%\n",
      "[[100   9]\n",
      " [ 25  16]]\n",
      "XG_Results_Adjusted accuracy_score_train  92.98%\n",
      "XG_Results_Adjustedaccuracy_score_test  77.33%\n"
     ]
    }
   ],
   "source": [
    "XG_Results_Adjusted= find_all(y_test_a, X_test_a ,XGBClassifier(), X_train_a, y_train_a)\n",
    "print(color.BOLD +\"XG Boost Results on Adjusted Data\")\n",
    "print ('\\033[0m')\n",
    "\n",
    "print(\"XG_Results_Adjusted AUC Test  %.2f%%\" % (XG_Results_Adjusted['auc']* 100.0))\n",
    "print(XG_Results_Adjusted['cfm'])\n",
    "print(\"XG_Results_Adjusted accuracy_score_train  %.2f%%\" % (XG_Results_Adjusted ['accuracy_score_train'] * 100.0))\n",
    "print(\"XG_Results_Adjustedaccuracy_score_test  %.2f%%\" % (XG_Results_Adjusted ['accuracy_score_test']* 100.0))"
   ]
  },
  {
   "cell_type": "markdown",
   "metadata": {},
   "source": [
    "# Compare options"
   ]
  },
  {
   "cell_type": "code",
   "execution_count": 94,
   "metadata": {},
   "outputs": [
    {
     "name": "stdout",
     "output_type": "stream",
     "text": [
      "\u001b[1mExplanation\n",
      "\u001b[0m\n",
      " \n",
      "LR - Linear Regression\n",
      "AUC - Area Under Curve\n",
      "DT - Decision Tree\n",
      "RF - Random Forest\n",
      "GS - Grid Search\n",
      "XG - XG Boost\n",
      " \n",
      "\u001b[1mComparing Accuracy Scores on AUC\n",
      "\u001b[0m\n",
      " \n",
      "LR Uncleaned AUC Test  79.06%\n",
      "LR_Results_Adjusted AUC Test  76.35%\n",
      " \n",
      "DT_Uncleaned_gini: AUC Test  73.42%\n",
      "DT_Uncleaned_entropy - AUC   72.81%\n",
      "DT_Results_Adjusted AUC Test  72.79%\n",
      " \n",
      "DT_Uncleaned_GS: AUC Test  76.49%\n",
      " \n",
      "RF_Uncleaned AUC Test  73.63%\n",
      "RF_Adjusted AUC Test  73.16%\n",
      " \n",
      "XGUncleaned AUC Test  71.78%\n",
      "XG_Results_Adjusted AUC Test  70.02%\n",
      " \n",
      " \n",
      "\u001b[1mComparing Other Accuracy Scores\n",
      "\u001b[0m\n",
      " \n",
      "LR Uncleaned accuracy_score_train  77.93%\n",
      "LR Uncleaned accuracy_score_test  74.67%\n",
      " \n",
      "LR_Results_Adjusted accuracy_score_train  77.26%\n",
      "LR_Results_Adjusted accuracy_score_test  76.67%\n",
      " \n",
      "DT_Uncleaned_gini : accuracy_score_train  79.77%\n",
      "DT_Uncleaned_gini accuracy_score_test  78.67%\n",
      " \n",
      "DT_Uncleaned_entropy accuracy_score_train  79.77%\n",
      "DT_Uncleaned_entropy accuracy_score_test  78.67%\n",
      " \n",
      "DT_Uncleaned_GS : accuracy_score_train  79.77%\n",
      "DT_Uncleaned_GS accuracy_score_test  78.67%\n",
      " \n",
      "DT_Results_Adjusted accuracy_score_train  79.77%\n",
      "DT_Results_Adjusted accuracy_score_test  78.67%\n",
      " \n",
      "RF_Uncleaned accuracy_score_train  93.48%\n",
      "RF_Uncleaned accuracy_score_test  76.00%\n",
      " \n",
      "RF_Adjusted accuracy_score_train  93.31%\n",
      "RF_Adjusted accuracy_score_test  73.33%\n",
      " \n",
      "XGUncleaned accuracy_score_train  92.31%\n",
      "XGUncleaned accuracy_score_test  74.00%\n",
      " \n",
      "XG_Results_Adjusted accuracy_score_train  92.98%\n",
      "XG_Results_Adjustedaccuracy_score_test  77.33%\n"
     ]
    }
   ],
   "source": [
    "print(color.BOLD +\"Explanation\")\n",
    "print ('\\033[0m')\n",
    "print(\" \")\n",
    "print(\"LR - Linear Regression\")\n",
    "print(\"AUC - Area Under Curve\")\n",
    "print(\"DT - Decision Tree\")\n",
    "print(\"RF - Random Forest\")\n",
    "print(\"GS - Grid Search\")\n",
    "print(\"XG - XG Boost\")\n",
    "print(\" \")\n",
    "print(color.BOLD +\"Comparing Accuracy Scores on AUC\")\n",
    "print ('\\033[0m')\n",
    "print(\" \")\n",
    "print(\"LR Uncleaned AUC Test  %.2f%%\" % (LR_Results['auc']* 100.0))\n",
    "print(\"LR_Results_Adjusted AUC Test  %.2f%%\" % (LR_Results_Adjusted['auc']* 100.0))\n",
    "print(\" \")\n",
    "print(\"DT_Uncleaned_gini: AUC Test  %.2f%%\" % (DT_Uncleaned_gini['auc']* 100.0))\n",
    "print(\"DT_Uncleaned_entropy - AUC   %.2f%%\" % (DT_Uncleaned_entropy['auc']* 100.0))\n",
    "print(\"DT_Results_Adjusted AUC Test  %.2f%%\" % (DT_Results_Adjusted['auc']* 100.0))\n",
    "print(\" \")\n",
    "print(\"DT_Uncleaned_GS: AUC Test  %.2f%%\" % (DT_Uncleaned_GS['auc']* 100.0))\n",
    "print(\" \")\n",
    "print(\"RF_Uncleaned AUC Test  %.2f%%\" % (RF_Uncleaned['auc']* 100.0))\n",
    "print(\"RF_Adjusted AUC Test  %.2f%%\" % (RF_Adjusted['auc']* 100.0))\n",
    "print(\" \")\n",
    "print(\"XGUncleaned AUC Test  %.2f%%\" % (XGUncleaned['auc']* 100.0))\n",
    "print(\"XG_Results_Adjusted AUC Test  %.2f%%\" % (XG_Results_Adjusted['auc']* 100.0))\n",
    "print(\" \")\n",
    "print(\" \")\n",
    "print(color.BOLD +\"Comparing Other Accuracy Scores\")\n",
    "print ('\\033[0m')\n",
    "print(\" \")\n",
    "print(\"LR Uncleaned accuracy_score_train  %.2f%%\" % (LR_Results ['accuracy_score_train'] * 100.0))\n",
    "print(\"LR Uncleaned accuracy_score_test  %.2f%%\" % (LR_Results ['accuracy_score_test']* 100.0))\n",
    "print(\" \")\n",
    "print(\"LR_Results_Adjusted accuracy_score_train  %.2f%%\" % (LR_Results_Adjusted ['accuracy_score_train'] * 100.0))\n",
    "print(\"LR_Results_Adjusted accuracy_score_test  %.2f%%\" % (LR_Results_Adjusted ['accuracy_score_test']* 100.0))\n",
    "print(\" \")\n",
    "print(\"DT_Uncleaned_gini : accuracy_score_train  %.2f%%\" % (DT_Uncleaned_gini ['accuracy_score_train'] * 100.0))\n",
    "print(\"DT_Uncleaned_gini accuracy_score_test  %.2f%%\" % (DT_Uncleaned_gini ['accuracy_score_test']* 100.0))\n",
    "print(\" \")\n",
    "print(\"DT_Uncleaned_entropy accuracy_score_train  %.2f%%\" % (DT_Uncleaned_entropy ['accuracy_score_train'] * 100.0))\n",
    "print(\"DT_Uncleaned_entropy accuracy_score_test  %.2f%%\" % (DT_Uncleaned_entropy ['accuracy_score_test']* 100.0))\n",
    "print(\" \")\n",
    "print(\"DT_Uncleaned_GS : accuracy_score_train  %.2f%%\" % (DT_Uncleaned_GS ['accuracy_score_train'] * 100.0))\n",
    "print(\"DT_Uncleaned_GS accuracy_score_test  %.2f%%\" % (DT_Uncleaned_GS ['accuracy_score_test']* 100.0))\n",
    "print(\" \")\n",
    "print(\"DT_Results_Adjusted accuracy_score_train  %.2f%%\" % (DT_Results_Adjusted ['accuracy_score_train'] * 100.0))\n",
    "print(\"DT_Results_Adjusted accuracy_score_test  %.2f%%\" % (DT_Results_Adjusted ['accuracy_score_test']* 100.0))\n",
    "print(\" \")\n",
    "print(\"RF_Uncleaned accuracy_score_train  %.2f%%\" % (RF_Uncleaned ['accuracy_score_train'] * 100.0))\n",
    "print(\"RF_Uncleaned accuracy_score_test  %.2f%%\" % (RF_Uncleaned ['accuracy_score_test']* 100.0))\n",
    "print(\" \")\n",
    "print(\"RF_Adjusted accuracy_score_train  %.2f%%\" % (RF_Adjusted ['accuracy_score_train'] * 100.0))\n",
    "print(\"RF_Adjusted accuracy_score_test  %.2f%%\" % (RF_Adjusted ['accuracy_score_test']* 100.0))\n",
    "print(\" \")\n",
    "print(\"XGUncleaned accuracy_score_train  %.2f%%\" % (XGUncleaned ['accuracy_score_train'] * 100.0))\n",
    "print(\"XGUncleaned accuracy_score_test  %.2f%%\" % (XGUncleaned ['accuracy_score_test']* 100.0))\n",
    "print(\" \")\n",
    "print(\"XG_Results_Adjusted accuracy_score_train  %.2f%%\" % (XG_Results_Adjusted ['accuracy_score_train'] * 100.0))\n",
    "print(\"XG_Results_Adjustedaccuracy_score_test  %.2f%%\" % (XG_Results_Adjusted ['accuracy_score_test']* 100.0))\n"
   ]
  },
  {
   "cell_type": "markdown",
   "metadata": {
    "colab_type": "text",
    "id": "mxI2We9OFpfs"
   },
   "source": [
    "# Alex Commentary"
   ]
  },
  {
   "cell_type": "code",
   "execution_count": 95,
   "metadata": {},
   "outputs": [],
   "source": [
    "# Using AUC as the main comparison option\n",
    "# LR (Linear Regression) on uncleaned gave the best result on the test\n",
    "# GS (Grid Search) improved the results by 3% so the others would do well with Grid Search\n",
    "\n",
    "# From above\n",
    "# Target Accuracy = 0.6895 -  Highest Train was > 90% - Highest Training was 78%\n",
    "# Target ROC AUC = 0.5690 - All above 70% - Highest was 79%"
   ]
  }
 ],
 "metadata": {
  "colab": {
   "collapsed_sections": [],
   "name": "DSIA Lab-7_1.ipynb",
   "provenance": []
  },
  "kernelspec": {
   "display_name": "Python 3",
   "language": "python",
   "name": "python3"
  },
  "language_info": {
   "codemirror_mode": {
    "name": "ipython",
    "version": 3
   },
   "file_extension": ".py",
   "mimetype": "text/x-python",
   "name": "python",
   "nbconvert_exporter": "python",
   "pygments_lexer": "ipython3",
   "version": "3.7.6"
  }
 },
 "nbformat": 4,
 "nbformat_minor": 1
}
